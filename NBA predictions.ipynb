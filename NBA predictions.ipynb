{
 "cells": [
  {
   "cell_type": "code",
   "execution_count": 956,
   "metadata": {},
   "outputs": [],
   "source": [
    "%matplotlib inline\n",
    "from urllib.request import urlopen\n",
    "from bs4 import BeautifulSoup\n",
    "import re\n",
    "import numpy as np\n",
    "import pandas as pd\n",
    "import matplotlib.pyplot as plt\n",
    "from sklearn.model_selection import train_test_split\n",
    "from sklearn.preprocessing import StandardScaler\n",
    "from sklearn.linear_model import Ridge\n",
    "from sklearn.linear_model import Lasso\n",
    "from sklearn.model_selection import GridSearchCV\n",
    "from sklearn.svm import SVR\n",
    "from sklearn.ensemble import RandomForestRegressor\n",
    "from sklearn.ensemble import VotingRegressor\n",
    "import scipy.stats as st\n",
    "import re\n",
    "from openpyxl import load_workbook"
   ]
  },
  {
   "cell_type": "markdown",
   "metadata": {},
   "source": [
    "### Create data frame with list of all NBA teams"
   ]
  },
  {
   "cell_type": "code",
   "execution_count": 881,
   "metadata": {},
   "outputs": [],
   "source": [
    "html = urlopen('https://www.basketball-reference.com/teams/')\n",
    "html_read = html.read()\n",
    "bsObj = BeautifulSoup(html_read)\n",
    "\n",
    "team_abbrev = []\n",
    "for child in bsObj.find('tbody').children:\n",
    "    try:\n",
    "        team_url = child.find('a').get('href')\n",
    "        team = re.split('/', team_url)[2]\n",
    "        team_abbrev.append(team)\n",
    "    except:\n",
    "        pass\n",
    "    \n",
    "df_teams = pd.DataFrame(team_abbrev, columns=['team'])\n",
    "\n",
    "# fix abbreviation for teams with new abbreviations in 2021 season\n",
    "df_teams.iloc[2] = 'BRK'\n",
    "df_teams.iloc[18] = 'NOP'\n",
    "df_teams.iloc[3] = 'CHO'"
   ]
  },
  {
   "cell_type": "markdown",
   "metadata": {},
   "source": [
    "### create data frame with list of all players on 2021 NBA rosters"
   ]
  },
  {
   "cell_type": "code",
   "execution_count": 882,
   "metadata": {},
   "outputs": [],
   "source": [
    "df_players = pd.DataFrame(columns = ['team', 'player'])\n",
    "codes = []\n",
    "for team in df_teams['team']:\n",
    "    team_url = urlopen('https://www.basketball-reference.com/teams/' + team + '/2021.html')\n",
    "    bsObj = BeautifulSoup(team_url.read())\n",
    "    for child in bsObj.find('tbody').children:\n",
    "        try:\n",
    "            player_url = child.find('a').get('href')\n",
    "            player_url = re.split('\\.', player_url)[0]\n",
    "            player_code = re.split('/', player_url)[3]\n",
    "            player_code = '/' + player_code[0] + '/' + player_code\n",
    "            codes.append(player_code)\n",
    "        except:\n",
    "            pass\n",
    "    df_team = pd.DataFrame(zip([team] * len(codes), codes), columns=['team', 'player'])\n",
    "    df_players = pd.concat([df_players, df_team], join='outer')\n",
    "    codes = []\n",
    "\n",
    "df_players = df_players.reset_index(drop=True)\n",
    "\n",
    "# brazdig01 is repeated twice so delete one of them (also the link doesnt work so delete both)\n",
    "df_players.drop(labels=371, inplace=True)\n",
    "df_players.drop(labels=372, inplace=True)"
   ]
  },
  {
   "cell_type": "markdown",
   "metadata": {},
   "source": [
    "### Create data frame of all stats for each player from the 2021 season up to this point"
   ]
  },
  {
   "cell_type": "code",
   "execution_count": 883,
   "metadata": {},
   "outputs": [
    {
     "name": "stdout",
     "output_type": "stream",
     "text": [
      "0% complete\n",
      "10% complete\n",
      "20% complete\n",
      "30% complete\n",
      "40% complete\n",
      "50% complete\n",
      "60% complete\n",
      "70% complete\n",
      "80% complete\n",
      "89% complete\n",
      "99% complete\n"
     ]
    },
    {
     "data": {
      "text/html": [
       "<div>\n",
       "<style scoped>\n",
       "    .dataframe tbody tr th:only-of-type {\n",
       "        vertical-align: middle;\n",
       "    }\n",
       "\n",
       "    .dataframe tbody tr th {\n",
       "        vertical-align: top;\n",
       "    }\n",
       "\n",
       "    .dataframe thead th {\n",
       "        text-align: right;\n",
       "    }\n",
       "</style>\n",
       "<table border=\"1\" class=\"dataframe\">\n",
       "  <thead>\n",
       "    <tr style=\"text-align: right;\">\n",
       "      <th></th>\n",
       "      <th>player</th>\n",
       "      <th>date</th>\n",
       "      <th>team</th>\n",
       "      <th>home</th>\n",
       "      <th>opp</th>\n",
       "      <th>min</th>\n",
       "      <th>FG</th>\n",
       "      <th>FGA</th>\n",
       "      <th>3P</th>\n",
       "      <th>3PA</th>\n",
       "      <th>...</th>\n",
       "      <th>DRB</th>\n",
       "      <th>TRB</th>\n",
       "      <th>AST</th>\n",
       "      <th>STL</th>\n",
       "      <th>BLK</th>\n",
       "      <th>TOV</th>\n",
       "      <th>PF</th>\n",
       "      <th>PTS</th>\n",
       "      <th>GmSc</th>\n",
       "      <th>+/-</th>\n",
       "    </tr>\n",
       "  </thead>\n",
       "  <tbody>\n",
       "    <tr>\n",
       "      <th>0</th>\n",
       "      <td>/h/hillso01</td>\n",
       "      <td>2020-12-23</td>\n",
       "      <td>ATL</td>\n",
       "      <td>@</td>\n",
       "      <td>CHI</td>\n",
       "      <td>28:24</td>\n",
       "      <td>0</td>\n",
       "      <td>3</td>\n",
       "      <td>0</td>\n",
       "      <td>3</td>\n",
       "      <td>...</td>\n",
       "      <td>3</td>\n",
       "      <td>3</td>\n",
       "      <td>0</td>\n",
       "      <td>0</td>\n",
       "      <td>1</td>\n",
       "      <td>3</td>\n",
       "      <td>2</td>\n",
       "      <td>0</td>\n",
       "      <td>-4.3</td>\n",
       "      <td>-8</td>\n",
       "    </tr>\n",
       "    <tr>\n",
       "      <th>1</th>\n",
       "      <td>/h/hillso01</td>\n",
       "      <td>2020-12-26</td>\n",
       "      <td>ATL</td>\n",
       "      <td>@</td>\n",
       "      <td>MEM</td>\n",
       "      <td>12:58</td>\n",
       "      <td>2</td>\n",
       "      <td>5</td>\n",
       "      <td>1</td>\n",
       "      <td>2</td>\n",
       "      <td>...</td>\n",
       "      <td>1</td>\n",
       "      <td>2</td>\n",
       "      <td>0</td>\n",
       "      <td>0</td>\n",
       "      <td>0</td>\n",
       "      <td>0</td>\n",
       "      <td>2</td>\n",
       "      <td>6</td>\n",
       "      <td>3.5</td>\n",
       "      <td>+3</td>\n",
       "    </tr>\n",
       "    <tr>\n",
       "      <th>2</th>\n",
       "      <td>/h/hillso01</td>\n",
       "      <td>2020-12-28</td>\n",
       "      <td>ATL</td>\n",
       "      <td></td>\n",
       "      <td>DET</td>\n",
       "      <td>19:55</td>\n",
       "      <td>4</td>\n",
       "      <td>8</td>\n",
       "      <td>4</td>\n",
       "      <td>8</td>\n",
       "      <td>...</td>\n",
       "      <td>2</td>\n",
       "      <td>2</td>\n",
       "      <td>0</td>\n",
       "      <td>1</td>\n",
       "      <td>1</td>\n",
       "      <td>1</td>\n",
       "      <td>3</td>\n",
       "      <td>12</td>\n",
       "      <td>8.1</td>\n",
       "      <td>+14</td>\n",
       "    </tr>\n",
       "    <tr>\n",
       "      <th>3</th>\n",
       "      <td>/h/hillso01</td>\n",
       "      <td>2020-12-30</td>\n",
       "      <td>ATL</td>\n",
       "      <td>@</td>\n",
       "      <td>BRK</td>\n",
       "      <td>16:43</td>\n",
       "      <td>3</td>\n",
       "      <td>6</td>\n",
       "      <td>3</td>\n",
       "      <td>5</td>\n",
       "      <td>...</td>\n",
       "      <td>1</td>\n",
       "      <td>2</td>\n",
       "      <td>0</td>\n",
       "      <td>0</td>\n",
       "      <td>0</td>\n",
       "      <td>1</td>\n",
       "      <td>3</td>\n",
       "      <td>9</td>\n",
       "      <td>4.8</td>\n",
       "      <td>-9</td>\n",
       "    </tr>\n",
       "    <tr>\n",
       "      <th>4</th>\n",
       "      <td>/h/hillso01</td>\n",
       "      <td>2021-01-01</td>\n",
       "      <td>ATL</td>\n",
       "      <td>@</td>\n",
       "      <td>BRK</td>\n",
       "      <td>23:40</td>\n",
       "      <td>2</td>\n",
       "      <td>9</td>\n",
       "      <td>2</td>\n",
       "      <td>7</td>\n",
       "      <td>...</td>\n",
       "      <td>4</td>\n",
       "      <td>4</td>\n",
       "      <td>1</td>\n",
       "      <td>1</td>\n",
       "      <td>1</td>\n",
       "      <td>0</td>\n",
       "      <td>1</td>\n",
       "      <td>6</td>\n",
       "      <td>3.7</td>\n",
       "      <td>+20</td>\n",
       "    </tr>\n",
       "  </tbody>\n",
       "</table>\n",
       "<p>5 rows × 23 columns</p>\n",
       "</div>"
      ],
      "text/plain": [
       "        player        date team home  opp    min FG FGA 3P 3PA  ... DRB TRB  \\\n",
       "0  /h/hillso01  2020-12-23  ATL    @  CHI  28:24  0   3  0   3  ...   3   3   \n",
       "1  /h/hillso01  2020-12-26  ATL    @  MEM  12:58  2   5  1   2  ...   1   2   \n",
       "2  /h/hillso01  2020-12-28  ATL       DET  19:55  4   8  4   8  ...   2   2   \n",
       "3  /h/hillso01  2020-12-30  ATL    @  BRK  16:43  3   6  3   5  ...   1   2   \n",
       "4  /h/hillso01  2021-01-01  ATL    @  BRK  23:40  2   9  2   7  ...   4   4   \n",
       "\n",
       "  AST STL BLK TOV PF PTS  GmSc  +/-  \n",
       "0   0   0   1   3  2   0  -4.3   -8  \n",
       "1   0   0   0   0  2   6   3.5   +3  \n",
       "2   0   1   1   1  3  12   8.1  +14  \n",
       "3   0   0   0   1  3   9   4.8   -9  \n",
       "4   1   1   1   0  1   6   3.7  +20  \n",
       "\n",
       "[5 rows x 23 columns]"
      ]
     },
     "execution_count": 883,
     "metadata": {},
     "output_type": "execute_result"
    }
   ],
   "source": [
    "stat_names = ['player','date','team','home','opp','min','FG','FGA','3P','3PA','FT','FTA','ORB','DRB','TRB','AST',\n",
    "         'STL','BLK','TOV','PF','PTS','GmSc','+/-']\n",
    "df_stats = pd.DataFrame(columns=stat_names)\n",
    "for i, player in enumerate(df_players['player']):\n",
    "    if i % 50 == 0:\n",
    "        print('{}% complete'.format(round(100*i/len(df_players))))\n",
    "    player_url = urlopen('https://www.basketball-reference.com/players/' + player + '/gamelog/2021')\n",
    "    bsObj = BeautifulSoup(player_url.read())\n",
    "    stats = []\n",
    "    for child in bsObj.find('tbody').children:\n",
    "        try:\n",
    "            stats.append(player)\n",
    "            for child1 in child.children:\n",
    "                stats.append(child1.get_text())\n",
    "        except:\n",
    "            pass   \n",
    "        # if len(stats) < 31, the player did not play that night so ignore those rows\n",
    "        if len(stats) == 31:\n",
    "            # get rid of unnecessary columns\n",
    "            del stats[1:3]\n",
    "            del stats[2]\n",
    "            del stats[5:7]\n",
    "            del stats[8]\n",
    "            del stats[10]\n",
    "            del stats[12]\n",
    "            df_stats = df_stats.append(pd.DataFrame(np.array(stats).reshape(1,-1), columns=stat_names))\n",
    "        stats = []\n",
    "df_stats = df_stats.reset_index(drop=True)\n",
    "df_stats.to_csv('df_stats.csv')\n",
    "df_stats.head()"
   ]
  },
  {
   "cell_type": "markdown",
   "metadata": {},
   "source": [
    "### Cleaning the player stats data frame"
   ]
  },
  {
   "cell_type": "code",
   "execution_count": 884,
   "metadata": {},
   "outputs": [
    {
     "data": {
      "text/html": [
       "<div>\n",
       "<style scoped>\n",
       "    .dataframe tbody tr th:only-of-type {\n",
       "        vertical-align: middle;\n",
       "    }\n",
       "\n",
       "    .dataframe tbody tr th {\n",
       "        vertical-align: top;\n",
       "    }\n",
       "\n",
       "    .dataframe thead th {\n",
       "        text-align: right;\n",
       "    }\n",
       "</style>\n",
       "<table border=\"1\" class=\"dataframe\">\n",
       "  <thead>\n",
       "    <tr style=\"text-align: right;\">\n",
       "      <th></th>\n",
       "      <th>player</th>\n",
       "      <th>date</th>\n",
       "      <th>team</th>\n",
       "      <th>home</th>\n",
       "      <th>opp</th>\n",
       "      <th>min</th>\n",
       "      <th>FG</th>\n",
       "      <th>FGA</th>\n",
       "      <th>3P</th>\n",
       "      <th>3PA</th>\n",
       "      <th>...</th>\n",
       "      <th>DRB</th>\n",
       "      <th>TRB</th>\n",
       "      <th>AST</th>\n",
       "      <th>STL</th>\n",
       "      <th>BLK</th>\n",
       "      <th>TOV</th>\n",
       "      <th>PF</th>\n",
       "      <th>PTS</th>\n",
       "      <th>GmSc</th>\n",
       "      <th>+/-</th>\n",
       "    </tr>\n",
       "  </thead>\n",
       "  <tbody>\n",
       "    <tr>\n",
       "      <th>0</th>\n",
       "      <td>/h/hillso01</td>\n",
       "      <td>2020-12-23</td>\n",
       "      <td>ATL</td>\n",
       "      <td>1</td>\n",
       "      <td>CHI</td>\n",
       "      <td>28.40</td>\n",
       "      <td>0</td>\n",
       "      <td>3</td>\n",
       "      <td>0</td>\n",
       "      <td>3</td>\n",
       "      <td>...</td>\n",
       "      <td>3</td>\n",
       "      <td>3</td>\n",
       "      <td>0</td>\n",
       "      <td>0</td>\n",
       "      <td>1</td>\n",
       "      <td>3</td>\n",
       "      <td>2</td>\n",
       "      <td>0</td>\n",
       "      <td>-4.3</td>\n",
       "      <td>-8.0</td>\n",
       "    </tr>\n",
       "    <tr>\n",
       "      <th>1</th>\n",
       "      <td>/h/hillso01</td>\n",
       "      <td>2020-12-26</td>\n",
       "      <td>ATL</td>\n",
       "      <td>1</td>\n",
       "      <td>MEM</td>\n",
       "      <td>12.97</td>\n",
       "      <td>2</td>\n",
       "      <td>5</td>\n",
       "      <td>1</td>\n",
       "      <td>2</td>\n",
       "      <td>...</td>\n",
       "      <td>1</td>\n",
       "      <td>2</td>\n",
       "      <td>0</td>\n",
       "      <td>0</td>\n",
       "      <td>0</td>\n",
       "      <td>0</td>\n",
       "      <td>2</td>\n",
       "      <td>6</td>\n",
       "      <td>3.5</td>\n",
       "      <td>3.0</td>\n",
       "    </tr>\n",
       "    <tr>\n",
       "      <th>2</th>\n",
       "      <td>/h/hillso01</td>\n",
       "      <td>2020-12-28</td>\n",
       "      <td>ATL</td>\n",
       "      <td>0</td>\n",
       "      <td>DET</td>\n",
       "      <td>19.92</td>\n",
       "      <td>4</td>\n",
       "      <td>8</td>\n",
       "      <td>4</td>\n",
       "      <td>8</td>\n",
       "      <td>...</td>\n",
       "      <td>2</td>\n",
       "      <td>2</td>\n",
       "      <td>0</td>\n",
       "      <td>1</td>\n",
       "      <td>1</td>\n",
       "      <td>1</td>\n",
       "      <td>3</td>\n",
       "      <td>12</td>\n",
       "      <td>8.1</td>\n",
       "      <td>14.0</td>\n",
       "    </tr>\n",
       "    <tr>\n",
       "      <th>3</th>\n",
       "      <td>/h/hillso01</td>\n",
       "      <td>2020-12-30</td>\n",
       "      <td>ATL</td>\n",
       "      <td>1</td>\n",
       "      <td>BRK</td>\n",
       "      <td>16.72</td>\n",
       "      <td>3</td>\n",
       "      <td>6</td>\n",
       "      <td>3</td>\n",
       "      <td>5</td>\n",
       "      <td>...</td>\n",
       "      <td>1</td>\n",
       "      <td>2</td>\n",
       "      <td>0</td>\n",
       "      <td>0</td>\n",
       "      <td>0</td>\n",
       "      <td>1</td>\n",
       "      <td>3</td>\n",
       "      <td>9</td>\n",
       "      <td>4.8</td>\n",
       "      <td>-9.0</td>\n",
       "    </tr>\n",
       "    <tr>\n",
       "      <th>4</th>\n",
       "      <td>/h/hillso01</td>\n",
       "      <td>2021-01-01</td>\n",
       "      <td>ATL</td>\n",
       "      <td>1</td>\n",
       "      <td>BRK</td>\n",
       "      <td>23.67</td>\n",
       "      <td>2</td>\n",
       "      <td>9</td>\n",
       "      <td>2</td>\n",
       "      <td>7</td>\n",
       "      <td>...</td>\n",
       "      <td>4</td>\n",
       "      <td>4</td>\n",
       "      <td>1</td>\n",
       "      <td>1</td>\n",
       "      <td>1</td>\n",
       "      <td>0</td>\n",
       "      <td>1</td>\n",
       "      <td>6</td>\n",
       "      <td>3.7</td>\n",
       "      <td>20.0</td>\n",
       "    </tr>\n",
       "  </tbody>\n",
       "</table>\n",
       "<p>5 rows × 23 columns</p>\n",
       "</div>"
      ],
      "text/plain": [
       "        player       date team  home  opp    min  FG  FGA  3P  3PA  ...  DRB  \\\n",
       "0  /h/hillso01 2020-12-23  ATL     1  CHI  28.40   0    3   0    3  ...    3   \n",
       "1  /h/hillso01 2020-12-26  ATL     1  MEM  12.97   2    5   1    2  ...    1   \n",
       "2  /h/hillso01 2020-12-28  ATL     0  DET  19.92   4    8   4    8  ...    2   \n",
       "3  /h/hillso01 2020-12-30  ATL     1  BRK  16.72   3    6   3    5  ...    1   \n",
       "4  /h/hillso01 2021-01-01  ATL     1  BRK  23.67   2    9   2    7  ...    4   \n",
       "\n",
       "   TRB  AST  STL  BLK  TOV  PF  PTS  GmSc   +/-  \n",
       "0    3    0    0    1    3   2    0  -4.3  -8.0  \n",
       "1    2    0    0    0    0   2    6   3.5   3.0  \n",
       "2    2    0    1    1    1   3   12   8.1  14.0  \n",
       "3    2    0    0    0    1   3    9   4.8  -9.0  \n",
       "4    4    1    1    1    0   1    6   3.7  20.0  \n",
       "\n",
       "[5 rows x 23 columns]"
      ]
     },
     "execution_count": 884,
     "metadata": {},
     "output_type": "execute_result"
    }
   ],
   "source": [
    "df_stats = pd.read_csv('df_stats.csv')\n",
    "df_stats.drop(columns='Unnamed: 0', axis=1, inplace=True)\n",
    "\n",
    "# for home column, 1 means home game, 0 means road game\n",
    "df_stats['home'] = np.where(df_stats['home']=='@', 1, 0)\n",
    "\n",
    "# change min column to numeric\n",
    "def min_to_numeric(value):\n",
    "    minute = int(re.split(':', value)[0])\n",
    "    second = int(re.split(':', value)[1])\n",
    "    return minute + round(second / 60, 2)\n",
    "df_stats['min'] = df_stats['min'].apply(lambda x: min_to_numeric(x))\n",
    "\n",
    "# two null values in +/- column\n",
    "label_1, label_2 = df_stats[df_stats['+/-'].isnull()].iloc[0].name, df_stats[df_stats['+/-'].isnull()].iloc[1].name\n",
    "# first one: all values are 0 so drop this columns\n",
    "df_stats.drop(labels=[label_1], axis=0, inplace=True)\n",
    "# second one: I looked it up on espn and the value should be -4\n",
    "df_stats.loc[label_2,'+/-'] = '-4'\n",
    "\n",
    "df_stats['date'] = pd.to_datetime(df_stats['date'])\n",
    "\n",
    "# convert relevant columns to numeric type\n",
    "numeric_stats = ['FG','FGA','3P','3PA','FT','FTA','ORB','DRB','TRB','AST','STL','BLK','TOV','PF','PTS','GmSc','+/-']\n",
    "for stat in numeric_stats:\n",
    "    df_stats[stat] = pd.to_numeric(df_stats[stat])\n",
    "\n",
    "df_stats.head()"
   ]
  },
  {
   "cell_type": "markdown",
   "metadata": {},
   "source": [
    "### Create data frame for the stats of all teams for each game"
   ]
  },
  {
   "cell_type": "code",
   "execution_count": 885,
   "metadata": {},
   "outputs": [],
   "source": [
    "team_stats_names = ['date','home','Opp','W/L','score','score_Opp','FG','FGA','3P','3PA','FT','FTA','ORB','TRB','AST',\n",
    "                    'STL','BLK','TOV','PF','FG_Opp','FGA_Opp','3P_Opp','3PA_Opp','FT_Opp','FTA_Opp','ORB_Opp',\n",
    "                    'TRB_Opp','AST_Opp','STL_Opp','BLK_Opp','TOV_Opp','PF_Opp'\n",
    "                   ]\n",
    "teams_gamelog = {team: pd.DataFrame(columns=team_stats_names) for team in df_teams['team']}\n",
    "for team in df_teams['team']:\n",
    "    team_url = urlopen('https://www.basketball-reference.com/teams/' + team + '/2021/gamelog/')\n",
    "    bsObj = BeautifulSoup(team_url.read())\n",
    "    stats = []\n",
    "    for child in bsObj.find('tbody').children:\n",
    "        try:\n",
    "            for child1 in child.children:\n",
    "                stats.append(child1.get_text())\n",
    "        except:\n",
    "            pass \n",
    "        if len(stats) == 41:\n",
    "            unnecessary_indices = [33,30,27,24,16,13,10,1,0]\n",
    "            for i in unnecessary_indices:\n",
    "                del stats[i]\n",
    "            teams_gamelog[team] = teams_gamelog[team].append(pd.DataFrame(np.array(stats).reshape(1,-1), columns=team_stats_names))\n",
    "        stats=[]\n",
    "    teams_gamelog[team] = teams_gamelog[team].reset_index(drop=True)"
   ]
  },
  {
   "cell_type": "markdown",
   "metadata": {},
   "source": [
    "### cleaning the team stats data frame"
   ]
  },
  {
   "cell_type": "code",
   "execution_count": 886,
   "metadata": {},
   "outputs": [],
   "source": [
    "numeric_stats = ['score','score_Opp','FG','FGA','3P','3PA','FT','FTA','ORB','TRB','AST','STL','BLK','TOV','PF',\n",
    "                 'FG_Opp','FGA_Opp','3P_Opp','3PA_Opp','FT_Opp','FTA_Opp','ORB_Opp','TRB_Opp','AST_Opp','STL_Opp',\n",
    "                 'BLK_Opp','TOV_Opp','PF_Opp']\n",
    "for team in df_teams['team']:\n",
    "    teams_gamelog[team]['home'] = np.where(teams_gamelog[team]['home']=='@', 1, 0)\n",
    "    teams_gamelog[team]['W/L'] = np.where(teams_gamelog[team]['W/L']=='W', 1, 0)\n",
    "    teams_gamelog[team]['date'] = pd.to_datetime(teams_gamelog[team]['date'])\n",
    "    for stat in numeric_stats:\n",
    "        teams_gamelog[team][stat] = pd.to_numeric(teams_gamelog[team][stat])"
   ]
  },
  {
   "cell_type": "markdown",
   "metadata": {},
   "source": [
    "### Create df for all players and stat of interest (points) with:\n",
    "- team/opponent/player stats averaged over the last week\n",
    "- player stats for entire season up to this point"
   ]
  },
  {
   "cell_type": "code",
   "execution_count": 887,
   "metadata": {},
   "outputs": [
    {
     "name": "stdout",
     "output_type": "stream",
     "text": [
      "0% complete\n",
      "10% complete\n",
      "20% complete\n",
      "30% complete\n",
      "40% complete\n",
      "50% complete\n",
      "60% complete\n",
      "70% complete\n",
      "80% complete\n",
      "90% complete\n"
     ]
    }
   ],
   "source": [
    "stat = 'PTS'\n",
    "df_final = pd.DataFrame()\n",
    "for i, player in enumerate(df_stats['player'].unique()):\n",
    "    if i % 50 == 0:\n",
    "        print('{}% complete'.format(round(100*i/len(df_stats['player'].unique()))))\n",
    "    df = df_stats[df_stats['player'] == player]\n",
    "    df = df[['date', 'team', 'home', 'opp', stat]]\n",
    "\n",
    "    # start in January so we have at least a week of games played already\n",
    "    df = df[df['date'] >= pd.to_datetime('2021-01-01')]\n",
    "    \n",
    "    # add player stats averaged over the last week\n",
    "    def player_week(row):\n",
    "        team = row['team']\n",
    "        date = row['date']\n",
    "        df_player = df_stats[df_stats['player'] == player]\n",
    "        df_player_week = df_player[(df_player['date'] < date) & (df_player['date'] >= date - pd.to_timedelta(1, unit='W'))]\n",
    "        if len(df_player_week) == 0:\n",
    "            col = df_player.drop(columns=['player','date','team','opp']).columns\n",
    "            AVGs = pd.Series(np.zeros(len(df_stats.columns) - 4), index=col)\n",
    "        else:\n",
    "            AVGs = df_player_week.drop(columns=['player','date','team','opp']).mean()\n",
    "        return AVGs\n",
    "    \n",
    "    df_player_week = df.apply(lambda x: player_week(x), axis=1) # merge with df\n",
    "    \n",
    "    # add player stats averaged over season up to this point\n",
    "    def player_season(row):\n",
    "        date = row['date']\n",
    "        df_player = df_stats[df_stats['player'] == player]\n",
    "        df_player_season = df_player[df_player['date'] < date]\n",
    "        if len(df_player_season) == 0:\n",
    "            col = df_player.drop(columns=['player','date','team','opp']).columns\n",
    "            AVGs = pd.Series(np.zeros(len(df_stats.columns) - 4), index=col)\n",
    "        else:\n",
    "            AVGs = df_player_season.drop(columns=['player','date','team','opp']).mean()  \n",
    "        return AVGs        \n",
    "    \n",
    "    df_player_season = df.apply(lambda x: player_season(x), axis=1) # merge with df\n",
    "    \n",
    "    # add team stats averaged over the last week\n",
    "    def team_week(row):\n",
    "        team = row['team']\n",
    "        date = row['date']\n",
    "        df_team = teams_gamelog[team]\n",
    "        df_team_week = df_team[(df_team['date'] < date) & (df_team['date'] >= date - pd.to_timedelta(1, unit='W'))]\n",
    "        if len(df_team_week) == 0:\n",
    "            col = df_team.drop(columns=['date','Opp'], axis=1).columns\n",
    "            AVGs = pd.Series(np.zeros(len(teams_gamelog[team].columns) - 2), index=col) \n",
    "        else:\n",
    "            AVGs = df_team_week.drop(columns=['date','Opp'], axis=1).mean()\n",
    "        return AVGs\n",
    "    \n",
    "    df_team_week = df.apply(lambda x: team_week(x), axis=1) # merge with df\n",
    "\n",
    "    # add opponent stats averaged over the last week\n",
    "    def opp_week(row):\n",
    "        opp = row['opp']\n",
    "        date = row['date']\n",
    "        df_opp = teams_gamelog[opp]\n",
    "        df_opp_week = df_opp[(df_opp['date'] < date) & (df_opp['date'] >= date - pd.to_timedelta(1, unit='W'))]\n",
    "        if len(df_opp_week) == 0:\n",
    "            col = df_opp.drop(columns=['date','Opp'], axis=1).columns\n",
    "            AVGs = pd.Series(np.zeros(len(teams_gamelog[opp].columns) - 2), index=col)\n",
    "        else:\n",
    "            AVGs = df_opp_week.drop(columns=['date','Opp'], axis=1).mean()\n",
    "        return AVGs\n",
    "\n",
    "    df_opp_week = df.apply(lambda x: opp_week(x), axis=1) # merge with df\n",
    "\n",
    "    # merge all three df's\n",
    "    df = pd.merge(df, df_player_week, how='inner', left_index=True, right_index=True, suffixes=('','_playerAVG'))\n",
    "    df = pd.merge(df, df_player_season, how='inner', left_index=True, right_index=True, suffixes=('','_seasonAVG'))\n",
    "    df = pd.merge(df, df_team_week, how='inner', left_index=True, right_index=True, suffixes=('','_teamAVG'))\n",
    "    df = pd.merge(df, df_opp_week, how='inner', left_index=True, right_index=True, suffixes=('','_oppAVG'))\n",
    "\n",
    "    # drop team and opp\n",
    "    df.drop(columns=['team','opp'], axis=1, inplace=True)\n",
    "    \n",
    "    df_final = pd.concat([df_final, df])\n",
    "\n",
    "for col in df_final.columns:\n",
    "    if df_final[col].isnull().sum() == len(df_final):\n",
    "        df_final.drop(columns=[col], axis=1, inplace=True)"
   ]
  },
  {
   "cell_type": "code",
   "execution_count": 888,
   "metadata": {},
   "outputs": [],
   "source": [
    "# get rid of date column so only numeric columns remain\n",
    "df_final.drop(columns=['date'], axis=1, inplace=True)\n",
    "\n",
    "# get rid of rows where the player played 0 minutes\n",
    "df_final = df_final[~(df_final['min'] == 0.0)]"
   ]
  },
  {
   "cell_type": "markdown",
   "metadata": {},
   "source": [
    "# Model Development"
   ]
  },
  {
   "cell_type": "code",
   "execution_count": 889,
   "metadata": {},
   "outputs": [],
   "source": [
    "# separate test/train data\n",
    "y = df_final['PTS']\n",
    "X = df_final.drop(columns=['PTS'], axis=1)\n",
    "X_train, X_test, y_train, y_test = train_test_split(X, y, random_state=0, test_size=0.2)"
   ]
  },
  {
   "cell_type": "code",
   "execution_count": 890,
   "metadata": {},
   "outputs": [],
   "source": [
    "# scale\n",
    "scale = StandardScaler()\n",
    "X_train = scale.fit_transform(X_train)\n",
    "X_test = scale.transform(X_test)"
   ]
  },
  {
   "cell_type": "markdown",
   "metadata": {},
   "source": [
    "### Ridge/Lasso Regularization"
   ]
  },
  {
   "cell_type": "markdown",
   "metadata": {},
   "source": [
    "We have more features than samples so probably need lots of regularization so try ridge/lasso regression"
   ]
  },
  {
   "cell_type": "code",
   "execution_count": 891,
   "metadata": {},
   "outputs": [
    {
     "name": "stdout",
     "output_type": "stream",
     "text": [
      "Best ridge params: Ridge(alpha=1000)\n",
      "Best lasso params: Lasso(alpha=0.01, max_iter=50000)\n"
     ]
    }
   ],
   "source": [
    "ridge = Ridge()\n",
    "lasso = Lasso(max_iter=50000)\n",
    "params = {'alpha': [0.0001, 0.001, 0.01, 0.1, 1, 10, 100, 1000]}\n",
    "\n",
    "\n",
    "grid_lasso = GridSearchCV(lasso, param_grid=params, scoring='r2', cv=5)\n",
    "grid_ridge = GridSearchCV(ridge, param_grid=params, scoring='r2', cv=5)\n",
    "\n",
    "grid_lasso.fit(X_train, y_train)\n",
    "grid_ridge.fit(X_train, y_train)\n",
    "\n",
    "print('Best ridge params: {}'.format(grid_ridge.best_estimator_))\n",
    "print('Best lasso params: {}'.format(grid_lasso.best_estimator_))"
   ]
  },
  {
   "cell_type": "code",
   "execution_count": 892,
   "metadata": {},
   "outputs": [
    {
     "name": "stdout",
     "output_type": "stream",
     "text": [
      "lasso score: 0.5404731407551204\n",
      "ridge score: 0.539742013156334\n"
     ]
    }
   ],
   "source": [
    "lasso = Lasso(alpha=0.01, max_iter=50000)\n",
    "lasso.fit(X_train, y_train)\n",
    "y_pred_lasso = lasso.predict(X_test)\n",
    "y_score_lasso = lasso.score(X_test,y_test)\n",
    "print('lasso score: {}'.format(y_score_lasso))\n",
    "\n",
    "ridge = Ridge(alpha=100)\n",
    "ridge.fit(X_train, y_train)\n",
    "y_pred_ridge = ridge.predict(X_test)\n",
    "y_score_ridge = ridge.score(X_test,y_test)\n",
    "print('ridge score: {}'.format(y_score_ridge))"
   ]
  },
  {
   "cell_type": "code",
   "execution_count": 893,
   "metadata": {},
   "outputs": [
    {
     "data": {
      "text/plain": [
       "Text(0.5, 0, 'predicted')"
      ]
     },
     "execution_count": 893,
     "metadata": {},
     "output_type": "execute_result"
    },
    {
     "data": {
      "image/png": "[encoded data removed]",
      "text/plain": [
       "<Figure size 864x432 with 2 Axes>"
      ]
     },
     "metadata": {
      "needs_background": "light"
     },
     "output_type": "display_data"
    }
   ],
   "source": [
    "fig, [ax1, ax2] = plt.subplots(1, 2, figsize=(12,6))\n",
    "ax1.scatter(y_pred_lasso, y_test)\n",
    "ax1.plot(np.arange(30), np.arange(30), 'r')\n",
    "ax1.set_xlim(0,30)\n",
    "ax1.set_ylim(0,30)\n",
    "ax1.set_ylabel('actual')\n",
    "ax1.set_xlabel('predicted')\n",
    "\n",
    "ax2.scatter(y_pred_ridge, y_test)\n",
    "ax2.plot(np.arange(30), np.arange(30), 'r')\n",
    "ax2.set_xlim(0,30)\n",
    "ax2.set_ylim(0,30)\n",
    "ax2.set_xlabel('predicted')"
   ]
  },
  {
   "cell_type": "code",
   "execution_count": 894,
   "metadata": {},
   "outputs": [
    {
     "data": {
      "text/plain": [
       "FG_seasonAVG      2.332637\n",
       "FT_seasonAVG      1.056692\n",
       "FGA               1.029241\n",
       "min               0.840882\n",
       "FGA_seasonAVG     0.810414\n",
       "3PA_seasonAVG     0.480427\n",
       "PTS_seasonAVG     0.292850\n",
       "TOV               0.272772\n",
       "FG                0.256311\n",
       "TOV_seasonAVG     0.201606\n",
       "FT                0.180665\n",
       "FTA_oppAVG        0.173542\n",
       "FTA_Opp_oppAVG    0.134623\n",
       "FGA_Opp_oppAVG    0.126537\n",
       "3PA_teamAVG       0.109844\n",
       "+/-_seasonAVG     0.105631\n",
       "FT_Opp            0.104800\n",
       "AST_Opp_oppAVG    0.095558\n",
       "BLK_seasonAVG     0.088328\n",
       "DRB               0.086285\n",
       "AST_oppAVG        0.084557\n",
       "DRB_seasonAVG     0.064971\n",
       "FGA_Opp           0.059361\n",
       "STL_teamAVG       0.053691\n",
       "AST_Opp           0.039791\n",
       "FG_oppAVG         0.037649\n",
       "BLK_Opp_oppAVG    0.036586\n",
       "BLK_Opp           0.030426\n",
       "3P_Opp            0.021257\n",
       "score_Opp         0.020176\n",
       "TRB_Opp_oppAVG    0.019448\n",
       "STL               0.011640\n",
       "home_teamAVG      0.005029\n",
       "TRB_oppAVG        0.000644\n",
       "ORB_Opp           0.000635\n",
       "dtype: float64"
      ]
     },
     "execution_count": 894,
     "metadata": {},
     "output_type": "execute_result"
    }
   ],
   "source": [
    "pd.Series(lasso.coef_, index=X.columns).sort_values(ascending=False)[:35]"
   ]
  },
  {
   "cell_type": "markdown",
   "metadata": {},
   "source": [
    "The lasso regression zeros out all but 34 features to predict the number of points scored.  The most heavily weighted features include the player's season averages for field goals, field goal attempts, and free throw attempts.  The next most heavily weighted features are the player's field goal attempts and minutes played per game averaged over the last week.  Shockingly, the average points a player scored averaged over the whole season up until the game of interest had a value of 0, indicating that it was irrelevant for predicting points.  Meanwhile, that feature was the most important for the random forest regressor (see below).  It definitely seems like it would be a strong predictor of the number of points scored in a game. However, if you look at the plot below, there is high collinearity between points and field goals per game averaged over the season (intuitively makes sense).  Therefore, lasso regression likely reduced the weight of one of these to account for this collinearity."
   ]
  },
  {
   "cell_type": "code",
   "execution_count": 895,
   "metadata": {},
   "outputs": [
    {
     "data": {
      "text/plain": [
       "(0.0, 14.0, 0.0, 40.0)"
      ]
     },
     "execution_count": 895,
     "metadata": {},
     "output_type": "execute_result"
    },
    {
     "data": {
      "image/png": "[encoded data removed]",
      "text/plain": [
       "<Figure size 432x432 with 1 Axes>"
      ]
     },
     "metadata": {
      "needs_background": "light"
     },
     "output_type": "display_data"
    }
   ],
   "source": [
    "fig = plt.figure(figsize=(6,6))\n",
    "plt.scatter(X['FG_seasonAVG'], X['PTS_seasonAVG'])\n",
    "plt.xlabel('AVG field goals per game over season')\n",
    "plt.ylabel('AVG points per game over season')\n",
    "plt.axis([0, 14, 0, 40])"
   ]
  },
  {
   "cell_type": "markdown",
   "metadata": {},
   "source": [
    "### SVR"
   ]
  },
  {
   "cell_type": "code",
   "execution_count": 896,
   "metadata": {},
   "outputs": [],
   "source": [
    "svr = SVR()\n",
    "params = {'kernel': ['poly', 'rbf'],\n",
    "          'gamma': ['scale', 'auto'],\n",
    "          'C': [0.001, 0.01, 0.1, 1, 10, 100]\n",
    "         }\n",
    "grid = GridSearchCV(svr, param_grid=params, scoring='r2', cv=3)\n",
    "#grid.fit(X_train, y_train)\n",
    "#grid.best_estimator_\n",
    "\n",
    "# best estimator is C=1, gamma='auto'"
   ]
  },
  {
   "cell_type": "code",
   "execution_count": 897,
   "metadata": {},
   "outputs": [
    {
     "name": "stdout",
     "output_type": "stream",
     "text": [
      "SVR score: 0.5138046495739859\n"
     ]
    },
    {
     "data": {
      "image/png": "[encoded data removed]",
      "text/plain": [
       "<Figure size 432x288 with 1 Axes>"
      ]
     },
     "metadata": {
      "needs_background": "light"
     },
     "output_type": "display_data"
    }
   ],
   "source": [
    "svr = SVR(C=1, gamma='auto', kernel='rbf')\n",
    "svr.fit(X_train, y_train)\n",
    "y_pred = svr.predict(X_test)\n",
    "_ = plt.scatter(y_pred, y_test)\n",
    "_ = plt.plot(np.arange(30), np.arange(30), 'r')\n",
    "plt.xlabel('predicted')\n",
    "plt.ylabel('actual')\n",
    "y_score_svr = svr.score(X_test,y_test)\n",
    "print('SVR score: {}'.format(y_score_svr))"
   ]
  },
  {
   "cell_type": "markdown",
   "metadata": {},
   "source": [
    "### Random Forests\n",
    "- note that this is the best-performing model"
   ]
  },
  {
   "cell_type": "code",
   "execution_count": 898,
   "metadata": {},
   "outputs": [],
   "source": [
    "tree = RandomForestRegressor()\n",
    "\n",
    "params = {'n_estimators': [100, 200, 300],\n",
    "          'max_depth': [5, 7, 9, 11],\n",
    "          'max_features': [10, 20, 30, 50]\n",
    "         }\n",
    "\n",
    "#grid_tree = GridSearchCV(tree, param_grid=params, scoring='r2', cv=3)\n",
    "#grid_tree.fit(X_train, y_train)\n",
    "\n",
    "#print('Best RF params: {}'.format(grid_tree.best_estimator_))"
   ]
  },
  {
   "cell_type": "code",
   "execution_count": 899,
   "metadata": {},
   "outputs": [
    {
     "name": "stdout",
     "output_type": "stream",
     "text": [
      "RF score: 0.5416064644150125\n"
     ]
    },
    {
     "data": {
      "text/plain": [
       "Text(0.5, 1.0, 'Predicted vs. Actual Points Scored using RF model')"
      ]
     },
     "execution_count": 899,
     "metadata": {},
     "output_type": "execute_result"
    },
    {
     "data": {
      "image/png": "[encoded data removed]",
      "text/plain": [
       "<Figure size 432x288 with 1 Axes>"
      ]
     },
     "metadata": {
      "needs_background": "light"
     },
     "output_type": "display_data"
    }
   ],
   "source": [
    "tree = RandomForestRegressor(max_depth=9, max_features=20, n_estimators=300)\n",
    "tree.fit(X_train, y_train)\n",
    "y_pred_tree = tree.predict(X_test)\n",
    "y_score_tree = tree.score(X_test,y_test)\n",
    "print('RF score: {}'.format(y_score_tree))\n",
    "_ = plt.scatter(y_pred_tree, y_test)\n",
    "_ = plt.plot(np.arange(30), np.arange(30),'r')\n",
    "plt.xlabel('Predicted')\n",
    "plt.ylabel('Actual')\n",
    "plt.title('Predicted vs. Actual Points Scored using RF model')"
   ]
  },
  {
   "cell_type": "code",
   "execution_count": 900,
   "metadata": {},
   "outputs": [
    {
     "data": {
      "text/plain": [
       "FGA_seasonAVG     0.154530\n",
       "FG_seasonAVG      0.129177\n",
       "PTS_seasonAVG     0.120278\n",
       "FGA               0.104749\n",
       "PTS_playerAVG     0.063224\n",
       "GmSc_seasonAVG    0.061287\n",
       "FG                0.046820\n",
       "min_seasonAVG     0.031194\n",
       "FT_seasonAVG      0.027230\n",
       "min               0.024053\n",
       "dtype: float64"
      ]
     },
     "execution_count": 900,
     "metadata": {},
     "output_type": "execute_result"
    }
   ],
   "source": [
    "pd.Series(tree.feature_importances_, index=X.columns).sort_values(ascending=False)[:10]"
   ]
  },
  {
   "cell_type": "markdown",
   "metadata": {},
   "source": [
    "The most important features to predict point scores according to the random forest regressor is the average number of points, field goal attempts, and field goals by a player averaged over the entire season up to the point of the game of interest."
   ]
  },
  {
   "cell_type": "markdown",
   "metadata": {},
   "source": [
    "### Voting Regressor"
   ]
  },
  {
   "cell_type": "code",
   "execution_count": 901,
   "metadata": {},
   "outputs": [
    {
     "name": "stdout",
     "output_type": "stream",
     "text": [
      "Voting Regressor score: 0.542975897341367\n"
     ]
    },
    {
     "data": {
      "text/plain": [
       "Text(0, 0.5, 'Actual')"
      ]
     },
     "execution_count": 901,
     "metadata": {},
     "output_type": "execute_result"
    },
    {
     "data": {
      "image/png": "[encoded data removed]",
      "text/plain": [
       "<Figure size 432x288 with 1 Axes>"
      ]
     },
     "metadata": {
      "needs_background": "light"
     },
     "output_type": "display_data"
    }
   ],
   "source": [
    "vote = VotingRegressor([('Ridge',ridge), ('Lasso',lasso), ('RF',tree)], n_jobs=-1)\n",
    "vote.fit(X_train, y_train)\n",
    "print('Voting Regressor score: {}'.format(vote.score(X_test,y_test)))\n",
    "y_pred_vote = vote.predict(X_test)\n",
    "_ = plt.scatter(y_pred_vote, y_test)\n",
    "_ = plt.plot(np.arange(30), np.arange(30))\n",
    "plt.xlabel('Predicted')\n",
    "plt.ylabel('Actual')"
   ]
  },
  {
   "cell_type": "markdown",
   "metadata": {},
   "source": [
    "The voting regressor is worse than the random forest model so I will use the random forest as the final model."
   ]
  },
  {
   "cell_type": "markdown",
   "metadata": {},
   "source": [
    "# Create data to predict during NBA playoffs\n",
    "- this function will take information about a player for a particular game and output a prediction to compare to a over/under generated by a betting site"
   ]
  },
  {
   "cell_type": "code",
   "execution_count": 902,
   "metadata": {},
   "outputs": [],
   "source": [
    "def predict_player_points(player, team, opp, home, date):\n",
    "\n",
    "    X_predict = pd.DataFrame(np.array([date, team, home, opp]).reshape(1,-1), columns = ['date', 'team', 'home', 'opp'])\n",
    "    \n",
    "    # add player stats averaged over the last week\n",
    "    df_player = df_stats[df_stats['player'] == player]\n",
    "    df_player_week = df_player[(df_player['date'] < date) & (df_player['date'] >= date - pd.to_timedelta(1, unit='W'))]\n",
    "    df_player_week = df_player_week.drop(columns=['player','date','team','opp']).mean()\n",
    "    df_player_week = pd.DataFrame(np.array(df_player_week).reshape(1,-1), columns = df_player_week.index)\n",
    "\n",
    "    # add player stats averaged over season up to this point\n",
    "    df_player_season = df_player[df_player['date'] < date]\n",
    "    df_player_season = df_player_season.drop(columns=['player','date','team','opp']).mean() \n",
    "    df_player_season = pd.DataFrame(np.array(df_player_season).reshape(1,-1), columns = df_player_season.index)\n",
    "\n",
    "    # add team stats averaged over the last week\n",
    "    df_team = teams_gamelog[team]\n",
    "    df_team_week = df_team[(df_team['date'] < date) & (df_team['date'] >= date - pd.to_timedelta(1, unit='W'))]\n",
    "    df_team_week = df_team_week.drop(columns=['date','Opp'], axis=1).mean()\n",
    "    df_team_week = pd.DataFrame(np.array(df_team_week).reshape(1,-1), columns = df_team_week.index)\n",
    "\n",
    "    # add opponent stats averaged over the last week\n",
    "    df_opp = teams_gamelog[opp]\n",
    "    df_opp_week = df_opp[(df_opp['date'] < date) & (df_opp['date'] >= date - pd.to_timedelta(1, unit='W'))]\n",
    "    df_opp_week = df_opp_week.drop(columns=['date','Opp'], axis=1).mean()\n",
    "    df_opp_week = pd.DataFrame(np.array(df_opp_week).reshape(1,-1), columns = df_opp_week.index)\n",
    "\n",
    "    # merge all three df's\n",
    "    X_predict = pd.merge(X_predict, df_player_week, how='inner', left_index=True, right_index=True, suffixes=('','_playerAVG'))\n",
    "    X_predict = pd.merge(X_predict, df_player_season, how='inner', left_index=True, right_index=True, suffixes=('','_seasonAVG'))\n",
    "    X_predict = pd.merge(X_predict, df_team_week, how='inner', left_index=True, right_index=True, suffixes=('','_teamAVG'))\n",
    "    X_predict = pd.merge(X_predict, df_opp_week, how='inner', left_index=True, right_index=True, suffixes=('','_oppAVG'))\n",
    "\n",
    "    # drop team and opp\n",
    "    X_predict.drop(columns=['date','team','opp'], axis=1, inplace=True)\n",
    "\n",
    "    for col in X_predict.columns:\n",
    "        if X_predict[col].isnull().sum() == len(X_predict):\n",
    "            X_predict.drop(columns=[col], axis=1, inplace=True)\n",
    "\n",
    "    X_predict = scale.transform(X_predict)\n",
    "    y_pred = np.round(tree.predict(X_predict), 1)\n",
    "    return y_pred[0]"
   ]
  },
  {
   "cell_type": "markdown",
   "metadata": {},
   "source": [
    "## Predict score of a player in today's game"
   ]
  },
  {
   "cell_type": "code",
   "execution_count": 903,
   "metadata": {},
   "outputs": [
    {
     "data": {
      "text/plain": [
       "28.1"
      ]
     },
     "execution_count": 903,
     "metadata": {},
     "output_type": "execute_result"
    }
   ],
   "source": [
    "player = '/b/bealbr01'\n",
    "team = 'WAS'\n",
    "opp = 'BOS'\n",
    "home = 0\n",
    "date = pd.to_datetime('today').normalize()\n",
    "predict_player_points(player, team, opp, home, date)"
   ]
  },
  {
   "cell_type": "markdown",
   "metadata": {},
   "source": [
    "# Betting\n",
    "- Start with \\$1,000\n",
    "- At monkeyknifefight.com, you have to correctly guess the over/under for points scored by two players (one from each team in the game)\n",
    "- The payout is typically 3x\n",
    "    - Since you have to correctly predict two props to win the bet, I must be correct 33% of the time to come out even with a 3x payout.  This means that I must be correct 57.4% of the time for each individual prediction to come out even.  I can potentially reduce this further by betting larger amounts on bets that I am more confident in.\n",
    "- Bet based on the following process:\n",
    "    - determine the mean and standard deviation of the difference between actual and predicted points scored to get a normal distribution\n",
    "    - determine the area under the cumulative distribution function for the difference between the over/under for a particular player and the model prediction\n",
    "    - this area represents the probability that my prediction is correct\n",
    "    - multiply this value times the value for the second player in the prop bet\n",
    "    - if this value is greater than 0.33 (since I need to be correct at least 33% of the time for a 3x payout), make the bet based on the following formula:\n",
    "        - if p > 0.33, bet = $800*p^4$\n",
    "        - bet more money on bets with greater probability of success\n",
    "    "
   ]
  },
  {
   "cell_type": "markdown",
   "metadata": {},
   "source": [
    "### Determine mean, standard deviation of normal distribution of the difference between predicted and actual points scored on the test set"
   ]
  },
  {
   "cell_type": "code",
   "execution_count": 904,
   "metadata": {},
   "outputs": [
    {
     "name": "stdout",
     "output_type": "stream",
     "text": [
      "95.0% confidence interval: [-0.18  0.19]\n",
      "Median: -0.6634758960637601\n",
      "Mean: 0.0018825065418759553\n",
      "Standard Deviation: 5.975308439534484\n"
     ]
    },
    {
     "data": {
      "image/png": "[encoded data removed]",
      "text/plain": [
       "<Figure size 432x288 with 1 Axes>"
      ]
     },
     "metadata": {
      "needs_background": "light"
     },
     "output_type": "display_data"
    }
   ],
   "source": [
    "y_diff = y_test - y_pred_vote\n",
    "_ = plt.hist(y_diff)\n",
    "plt.xlabel('Actual - Predicted (points)')\n",
    "plt.ylabel('Number')\n",
    "plt.title('Distribution of Differences Between Actual and Predicted')\n",
    "\n",
    "alpha = 0.95\n",
    "CI = st.norm.interval(alpha=alpha, loc=np.mean(y_diff), scale=st.sem(y_diff))\n",
    "print('{}% confidence interval: {}'.format(100*alpha, np.round(CI,2)))\n",
    "std = st.stats.tstd(y_diff)\n",
    "mean = np.mean(y_diff)\n",
    "median = np.median(y_diff)\n",
    "print('Median: {}'.format(median))\n",
    "print('Mean: {}'.format(mean))\n",
    "print('Standard Deviation: {}'.format(std))"
   ]
  },
  {
   "cell_type": "markdown",
   "metadata": {},
   "source": [
    "### Calculate area under cumulative distribution function to determine probability of success and how much to bet"
   ]
  },
  {
   "cell_type": "code",
   "execution_count": 905,
   "metadata": {},
   "outputs": [
    {
     "name": "stdout",
     "output_type": "stream",
     "text": [
      "Probability of winning the bet: 0.421\n",
      "Probability of winning part 1: 0.779\n",
      "Probability of winning part 2: 0.54\n",
      "Bet $25.05 on this prop\n"
     ]
    }
   ],
   "source": [
    "# diff = O/U - Predicted\n",
    "diff1 = 4.6\n",
    "diff2 = 0.6\n",
    "\n",
    "if diff1 > 0:\n",
    "    p1 = st.norm(mean,std).cdf(diff1)\n",
    "else:\n",
    "    p1 = 1 - st.norm(mean,std).cdf(diff1)\n",
    "    \n",
    "if diff2 > 0:\n",
    "    p2 = st.norm(mean,std).cdf(diff2)\n",
    "else:\n",
    "    p2 = 1 - st.norm(mean,std).cdf(diff2)\n",
    "    \n",
    "p = p1 * p2\n",
    "print('Probability of winning the bet: {}'.format(round(p,3)))\n",
    "print('Probability of winning part 1: {}'.format(round(p1,3)))\n",
    "print('Probability of winning part 2: {}'.format(round(p2,3)))\n",
    "if p > 0.33:\n",
    "    bet = round(800*p**4, 2)\n",
    "else:\n",
    "    bet = 0\n",
    "print('Bet ${} on this prop'.format(bet))"
   ]
  },
  {
   "cell_type": "markdown",
   "metadata": {},
   "source": [
    "# Model 2\n",
    "### Only train model on players who averaged at least 15 points per game in 2020 since betting websites only set over/under lines for high scoring players"
   ]
  },
  {
   "cell_type": "markdown",
   "metadata": {},
   "source": [
    "### Add players' actual name to players data frame (in addition to the code used by basteball reference)"
   ]
  },
  {
   "cell_type": "code",
   "execution_count": 906,
   "metadata": {},
   "outputs": [
    {
     "data": {
      "text/html": [
       "<div>\n",
       "<style scoped>\n",
       "    .dataframe tbody tr th:only-of-type {\n",
       "        vertical-align: middle;\n",
       "    }\n",
       "\n",
       "    .dataframe tbody tr th {\n",
       "        vertical-align: top;\n",
       "    }\n",
       "\n",
       "    .dataframe thead th {\n",
       "        text-align: right;\n",
       "    }\n",
       "</style>\n",
       "<table border=\"1\" class=\"dataframe\">\n",
       "  <thead>\n",
       "    <tr style=\"text-align: right;\">\n",
       "      <th></th>\n",
       "      <th>team</th>\n",
       "      <th>player</th>\n",
       "      <th>name</th>\n",
       "    </tr>\n",
       "  </thead>\n",
       "  <tbody>\n",
       "    <tr>\n",
       "      <th>0</th>\n",
       "      <td>ATL</td>\n",
       "      <td>/h/hillso01</td>\n",
       "      <td>Solomon Hill</td>\n",
       "    </tr>\n",
       "    <tr>\n",
       "      <th>1</th>\n",
       "      <td>ATL</td>\n",
       "      <td>/h/huertke01</td>\n",
       "      <td>Kevin Huerter</td>\n",
       "    </tr>\n",
       "    <tr>\n",
       "      <th>2</th>\n",
       "      <td>ATL</td>\n",
       "      <td>/y/youngtr01</td>\n",
       "      <td>Trae Young</td>\n",
       "    </tr>\n",
       "    <tr>\n",
       "      <th>3</th>\n",
       "      <td>ATL</td>\n",
       "      <td>/c/collijo01</td>\n",
       "      <td>John Collins</td>\n",
       "    </tr>\n",
       "    <tr>\n",
       "      <th>4</th>\n",
       "      <td>ATL</td>\n",
       "      <td>/c/capelca01</td>\n",
       "      <td>Clint Capela</td>\n",
       "    </tr>\n",
       "  </tbody>\n",
       "</table>\n",
       "</div>"
      ],
      "text/plain": [
       "  team        player           name\n",
       "0  ATL   /h/hillso01   Solomon Hill\n",
       "1  ATL  /h/huertke01  Kevin Huerter\n",
       "2  ATL  /y/youngtr01     Trae Young\n",
       "3  ATL  /c/collijo01   John Collins\n",
       "4  ATL  /c/capelca01   Clint Capela"
      ]
     },
     "execution_count": 906,
     "metadata": {},
     "output_type": "execute_result"
    }
   ],
   "source": [
    "index = df_players.index\n",
    "for i, player in enumerate(df_players['player']):\n",
    "    idx = index[i]\n",
    "    player_url = urlopen('https://www.basketball-reference.com/players/' + player + '.html')\n",
    "    bsObj = BeautifulSoup(player_url.read())\n",
    "    title = bsObj.find('title').get_text()\n",
    "    title = re.split(' Stats', title)[0]\n",
    "    df_players.loc[idx, 'name'] = title\n",
    "\n",
    "df_players.head()"
   ]
  },
  {
   "cell_type": "markdown",
   "metadata": {},
   "source": [
    "### Read in data set on players who averaged at least 15 points in 2020 (downloaded from basketball reference)"
   ]
  },
  {
   "cell_type": "code",
   "execution_count": 907,
   "metadata": {},
   "outputs": [
    {
     "data": {
      "text/html": [
       "<div>\n",
       "<style scoped>\n",
       "    .dataframe tbody tr th:only-of-type {\n",
       "        vertical-align: middle;\n",
       "    }\n",
       "\n",
       "    .dataframe tbody tr th {\n",
       "        vertical-align: top;\n",
       "    }\n",
       "\n",
       "    .dataframe thead th {\n",
       "        text-align: right;\n",
       "    }\n",
       "</style>\n",
       "<table border=\"1\" class=\"dataframe\">\n",
       "  <thead>\n",
       "    <tr style=\"text-align: right;\">\n",
       "      <th></th>\n",
       "      <th>Rk</th>\n",
       "      <th>Player</th>\n",
       "      <th>Pos</th>\n",
       "      <th>Age</th>\n",
       "      <th>Tm</th>\n",
       "      <th>G</th>\n",
       "      <th>GS</th>\n",
       "      <th>MP</th>\n",
       "      <th>FG</th>\n",
       "      <th>FGA</th>\n",
       "      <th>...</th>\n",
       "      <th>FT%</th>\n",
       "      <th>ORB</th>\n",
       "      <th>DRB</th>\n",
       "      <th>TRB</th>\n",
       "      <th>AST</th>\n",
       "      <th>STL</th>\n",
       "      <th>BLK</th>\n",
       "      <th>TOV</th>\n",
       "      <th>PF</th>\n",
       "      <th>PTS▼</th>\n",
       "    </tr>\n",
       "  </thead>\n",
       "  <tbody>\n",
       "    <tr>\n",
       "      <th>0</th>\n",
       "      <td>1.0</td>\n",
       "      <td>James Harden</td>\n",
       "      <td>SG</td>\n",
       "      <td>30.0</td>\n",
       "      <td>HOU</td>\n",
       "      <td>68.0</td>\n",
       "      <td>68.0</td>\n",
       "      <td>36.5</td>\n",
       "      <td>9.9</td>\n",
       "      <td>22.3</td>\n",
       "      <td>...</td>\n",
       "      <td>0.865</td>\n",
       "      <td>1.0</td>\n",
       "      <td>5.5</td>\n",
       "      <td>6.6</td>\n",
       "      <td>7.5</td>\n",
       "      <td>1.8</td>\n",
       "      <td>0.9</td>\n",
       "      <td>4.5</td>\n",
       "      <td>3.3</td>\n",
       "      <td>34.3</td>\n",
       "    </tr>\n",
       "    <tr>\n",
       "      <th>1</th>\n",
       "      <td>2.0</td>\n",
       "      <td>Bradley Beal</td>\n",
       "      <td>SG</td>\n",
       "      <td>26.0</td>\n",
       "      <td>WAS</td>\n",
       "      <td>57.0</td>\n",
       "      <td>57.0</td>\n",
       "      <td>36.0</td>\n",
       "      <td>10.4</td>\n",
       "      <td>22.9</td>\n",
       "      <td>...</td>\n",
       "      <td>0.842</td>\n",
       "      <td>0.9</td>\n",
       "      <td>3.3</td>\n",
       "      <td>4.2</td>\n",
       "      <td>6.1</td>\n",
       "      <td>1.2</td>\n",
       "      <td>0.4</td>\n",
       "      <td>3.4</td>\n",
       "      <td>2.2</td>\n",
       "      <td>30.5</td>\n",
       "    </tr>\n",
       "    <tr>\n",
       "      <th>2</th>\n",
       "      <td>3.0</td>\n",
       "      <td>Damian Lillard</td>\n",
       "      <td>PG</td>\n",
       "      <td>29.0</td>\n",
       "      <td>POR</td>\n",
       "      <td>66.0</td>\n",
       "      <td>66.0</td>\n",
       "      <td>37.5</td>\n",
       "      <td>9.5</td>\n",
       "      <td>20.4</td>\n",
       "      <td>...</td>\n",
       "      <td>0.888</td>\n",
       "      <td>0.5</td>\n",
       "      <td>3.8</td>\n",
       "      <td>4.3</td>\n",
       "      <td>8.0</td>\n",
       "      <td>1.1</td>\n",
       "      <td>0.3</td>\n",
       "      <td>2.9</td>\n",
       "      <td>1.7</td>\n",
       "      <td>30.0</td>\n",
       "    </tr>\n",
       "    <tr>\n",
       "      <th>3</th>\n",
       "      <td>4.0</td>\n",
       "      <td>Trae Young</td>\n",
       "      <td>PG</td>\n",
       "      <td>21.0</td>\n",
       "      <td>ATL</td>\n",
       "      <td>60.0</td>\n",
       "      <td>60.0</td>\n",
       "      <td>35.3</td>\n",
       "      <td>9.1</td>\n",
       "      <td>20.8</td>\n",
       "      <td>...</td>\n",
       "      <td>0.860</td>\n",
       "      <td>0.5</td>\n",
       "      <td>3.7</td>\n",
       "      <td>4.3</td>\n",
       "      <td>9.3</td>\n",
       "      <td>1.1</td>\n",
       "      <td>0.1</td>\n",
       "      <td>4.8</td>\n",
       "      <td>1.7</td>\n",
       "      <td>29.6</td>\n",
       "    </tr>\n",
       "    <tr>\n",
       "      <th>4</th>\n",
       "      <td>5.0</td>\n",
       "      <td>Giannis Antetokounmpo</td>\n",
       "      <td>PF</td>\n",
       "      <td>25.0</td>\n",
       "      <td>MIL</td>\n",
       "      <td>63.0</td>\n",
       "      <td>63.0</td>\n",
       "      <td>30.4</td>\n",
       "      <td>10.9</td>\n",
       "      <td>19.7</td>\n",
       "      <td>...</td>\n",
       "      <td>0.633</td>\n",
       "      <td>2.2</td>\n",
       "      <td>11.4</td>\n",
       "      <td>13.6</td>\n",
       "      <td>5.6</td>\n",
       "      <td>1.0</td>\n",
       "      <td>1.0</td>\n",
       "      <td>3.7</td>\n",
       "      <td>3.1</td>\n",
       "      <td>29.5</td>\n",
       "    </tr>\n",
       "  </tbody>\n",
       "</table>\n",
       "<p>5 rows × 30 columns</p>\n",
       "</div>"
      ],
      "text/plain": [
       "    Rk                 Player Pos   Age   Tm     G    GS    MP    FG   FGA  \\\n",
       "0  1.0           James Harden  SG  30.0  HOU  68.0  68.0  36.5   9.9  22.3   \n",
       "1  2.0           Bradley Beal  SG  26.0  WAS  57.0  57.0  36.0  10.4  22.9   \n",
       "2  3.0         Damian Lillard  PG  29.0  POR  66.0  66.0  37.5   9.5  20.4   \n",
       "3  4.0             Trae Young  PG  21.0  ATL  60.0  60.0  35.3   9.1  20.8   \n",
       "4  5.0  Giannis Antetokounmpo  PF  25.0  MIL  63.0  63.0  30.4  10.9  19.7   \n",
       "\n",
       "   ...    FT%  ORB   DRB   TRB  AST  STL  BLK  TOV   PF  PTS▼  \n",
       "0  ...  0.865  1.0   5.5   6.6  7.5  1.8  0.9  4.5  3.3  34.3  \n",
       "1  ...  0.842  0.9   3.3   4.2  6.1  1.2  0.4  3.4  2.2  30.5  \n",
       "2  ...  0.888  0.5   3.8   4.3  8.0  1.1  0.3  2.9  1.7  30.0  \n",
       "3  ...  0.860  0.5   3.7   4.3  9.3  1.1  0.1  4.8  1.7  29.6  \n",
       "4  ...  0.633  2.2  11.4  13.6  5.6  1.0  1.0  3.7  3.1  29.5  \n",
       "\n",
       "[5 rows x 30 columns]"
      ]
     },
     "execution_count": 907,
     "metadata": {},
     "output_type": "execute_result"
    }
   ],
   "source": [
    "df_2020_15pts = pd.read_csv('2020_players_15pts.csv')\n",
    "df_2020_15pts.head()"
   ]
  },
  {
   "cell_type": "markdown",
   "metadata": {},
   "source": [
    "### Eliminate players from players data frame who did not score at least 15 points \n",
    "- add back high-scoring players that were not in the list due to injury"
   ]
  },
  {
   "cell_type": "code",
   "execution_count": 908,
   "metadata": {},
   "outputs": [
    {
     "data": {
      "text/html": [
       "<div>\n",
       "<style scoped>\n",
       "    .dataframe tbody tr th:only-of-type {\n",
       "        vertical-align: middle;\n",
       "    }\n",
       "\n",
       "    .dataframe tbody tr th {\n",
       "        vertical-align: top;\n",
       "    }\n",
       "\n",
       "    .dataframe thead th {\n",
       "        text-align: right;\n",
       "    }\n",
       "</style>\n",
       "<table border=\"1\" class=\"dataframe\">\n",
       "  <thead>\n",
       "    <tr style=\"text-align: right;\">\n",
       "      <th></th>\n",
       "      <th>team</th>\n",
       "      <th>player</th>\n",
       "      <th>name</th>\n",
       "    </tr>\n",
       "  </thead>\n",
       "  <tbody>\n",
       "    <tr>\n",
       "      <th>0</th>\n",
       "      <td>ATL</td>\n",
       "      <td>/y/youngtr01</td>\n",
       "      <td>Trae Young</td>\n",
       "    </tr>\n",
       "    <tr>\n",
       "      <th>1</th>\n",
       "      <td>ATL</td>\n",
       "      <td>/g/gallida01</td>\n",
       "      <td>Danilo Gallinari</td>\n",
       "    </tr>\n",
       "    <tr>\n",
       "      <th>2</th>\n",
       "      <td>ATL</td>\n",
       "      <td>/b/bogdabo01</td>\n",
       "      <td>Bogdan Bogdanović</td>\n",
       "    </tr>\n",
       "    <tr>\n",
       "      <th>3</th>\n",
       "      <td>ATL</td>\n",
       "      <td>/w/willilo02</td>\n",
       "      <td>Lou Williams</td>\n",
       "    </tr>\n",
       "    <tr>\n",
       "      <th>4</th>\n",
       "      <td>BOS</td>\n",
       "      <td>/t/tatumja01</td>\n",
       "      <td>Jayson Tatum</td>\n",
       "    </tr>\n",
       "  </tbody>\n",
       "</table>\n",
       "</div>"
      ],
      "text/plain": [
       "  team        player               name\n",
       "0  ATL  /y/youngtr01         Trae Young\n",
       "1  ATL  /g/gallida01   Danilo Gallinari\n",
       "2  ATL  /b/bogdabo01  Bogdan Bogdanović\n",
       "3  ATL  /w/willilo02       Lou Williams\n",
       "4  BOS  /t/tatumja01       Jayson Tatum"
      ]
     },
     "execution_count": 908,
     "metadata": {},
     "output_type": "execute_result"
    }
   ],
   "source": [
    "index = df_players.index\n",
    "df_players_15 = pd.DataFrame()\n",
    "flag = 0\n",
    "for i, name in enumerate(df_players['name']):\n",
    "    if name in df_2020_15pts['Player'].values:\n",
    "        idx = index[i]\n",
    "        df_players_15[flag] = df_players.loc[idx]\n",
    "        flag += 1\n",
    "df_players_15 = df_players_15.unstack().unstack()\n",
    "\n",
    "# add players to list that were injured last season\n",
    "df_players_15.loc[71] = ['GSW', '/c/curryst01', 'Stephen Curry']\n",
    "df_players_15.loc[72] = ['BKN', '/i/irvinky01', 'Kyrie Irving']\n",
    "df_players_15.loc[73] = ['BKN', '/d/duranke01', 'Kevin Durant']\n",
    "\n",
    "df_players_15.head()"
   ]
  },
  {
   "cell_type": "markdown",
   "metadata": {},
   "source": [
    "### Create a data frame of stats for each of these players for each game"
   ]
  },
  {
   "cell_type": "code",
   "execution_count": 909,
   "metadata": {},
   "outputs": [
    {
     "name": "stdout",
     "output_type": "stream",
     "text": [
      "0% complete\n",
      "14% complete\n",
      "27% complete\n",
      "41% complete\n",
      "54% complete\n",
      "68% complete\n",
      "81% complete\n",
      "95% complete\n"
     ]
    },
    {
     "data": {
      "text/html": [
       "<div>\n",
       "<style scoped>\n",
       "    .dataframe tbody tr th:only-of-type {\n",
       "        vertical-align: middle;\n",
       "    }\n",
       "\n",
       "    .dataframe tbody tr th {\n",
       "        vertical-align: top;\n",
       "    }\n",
       "\n",
       "    .dataframe thead th {\n",
       "        text-align: right;\n",
       "    }\n",
       "</style>\n",
       "<table border=\"1\" class=\"dataframe\">\n",
       "  <thead>\n",
       "    <tr style=\"text-align: right;\">\n",
       "      <th></th>\n",
       "      <th>player</th>\n",
       "      <th>date</th>\n",
       "      <th>team</th>\n",
       "      <th>home</th>\n",
       "      <th>opp</th>\n",
       "      <th>min</th>\n",
       "      <th>FG</th>\n",
       "      <th>FGA</th>\n",
       "      <th>3P</th>\n",
       "      <th>3PA</th>\n",
       "      <th>...</th>\n",
       "      <th>DRB</th>\n",
       "      <th>TRB</th>\n",
       "      <th>AST</th>\n",
       "      <th>STL</th>\n",
       "      <th>BLK</th>\n",
       "      <th>TOV</th>\n",
       "      <th>PF</th>\n",
       "      <th>PTS</th>\n",
       "      <th>GmSc</th>\n",
       "      <th>+/-</th>\n",
       "    </tr>\n",
       "  </thead>\n",
       "  <tbody>\n",
       "    <tr>\n",
       "      <th>0</th>\n",
       "      <td>/y/youngtr01</td>\n",
       "      <td>2020-12-23</td>\n",
       "      <td>ATL</td>\n",
       "      <td>@</td>\n",
       "      <td>CHI</td>\n",
       "      <td>25:57</td>\n",
       "      <td>10</td>\n",
       "      <td>12</td>\n",
       "      <td>5</td>\n",
       "      <td>6</td>\n",
       "      <td>...</td>\n",
       "      <td>4</td>\n",
       "      <td>6</td>\n",
       "      <td>7</td>\n",
       "      <td>0</td>\n",
       "      <td>0</td>\n",
       "      <td>4</td>\n",
       "      <td>1</td>\n",
       "      <td>37</td>\n",
       "      <td>34.9</td>\n",
       "      <td>+30</td>\n",
       "    </tr>\n",
       "    <tr>\n",
       "      <th>1</th>\n",
       "      <td>/y/youngtr01</td>\n",
       "      <td>2020-12-26</td>\n",
       "      <td>ATL</td>\n",
       "      <td>@</td>\n",
       "      <td>MEM</td>\n",
       "      <td>35:23</td>\n",
       "      <td>10</td>\n",
       "      <td>24</td>\n",
       "      <td>1</td>\n",
       "      <td>7</td>\n",
       "      <td>...</td>\n",
       "      <td>1</td>\n",
       "      <td>3</td>\n",
       "      <td>9</td>\n",
       "      <td>0</td>\n",
       "      <td>0</td>\n",
       "      <td>2</td>\n",
       "      <td>1</td>\n",
       "      <td>36</td>\n",
       "      <td>28.0</td>\n",
       "      <td>+12</td>\n",
       "    </tr>\n",
       "    <tr>\n",
       "      <th>2</th>\n",
       "      <td>/y/youngtr01</td>\n",
       "      <td>2020-12-28</td>\n",
       "      <td>ATL</td>\n",
       "      <td></td>\n",
       "      <td>DET</td>\n",
       "      <td>32:55</td>\n",
       "      <td>6</td>\n",
       "      <td>13</td>\n",
       "      <td>2</td>\n",
       "      <td>6</td>\n",
       "      <td>...</td>\n",
       "      <td>3</td>\n",
       "      <td>3</td>\n",
       "      <td>6</td>\n",
       "      <td>0</td>\n",
       "      <td>0</td>\n",
       "      <td>3</td>\n",
       "      <td>2</td>\n",
       "      <td>29</td>\n",
       "      <td>23.6</td>\n",
       "      <td>0</td>\n",
       "    </tr>\n",
       "    <tr>\n",
       "      <th>3</th>\n",
       "      <td>/y/youngtr01</td>\n",
       "      <td>2020-12-30</td>\n",
       "      <td>ATL</td>\n",
       "      <td>@</td>\n",
       "      <td>BRK</td>\n",
       "      <td>31:56</td>\n",
       "      <td>8</td>\n",
       "      <td>18</td>\n",
       "      <td>0</td>\n",
       "      <td>4</td>\n",
       "      <td>...</td>\n",
       "      <td>3</td>\n",
       "      <td>6</td>\n",
       "      <td>11</td>\n",
       "      <td>0</td>\n",
       "      <td>0</td>\n",
       "      <td>5</td>\n",
       "      <td>0</td>\n",
       "      <td>30</td>\n",
       "      <td>25.5</td>\n",
       "      <td>+5</td>\n",
       "    </tr>\n",
       "    <tr>\n",
       "      <th>4</th>\n",
       "      <td>/y/youngtr01</td>\n",
       "      <td>2021-01-01</td>\n",
       "      <td>ATL</td>\n",
       "      <td>@</td>\n",
       "      <td>BRK</td>\n",
       "      <td>32:27</td>\n",
       "      <td>7</td>\n",
       "      <td>21</td>\n",
       "      <td>3</td>\n",
       "      <td>8</td>\n",
       "      <td>...</td>\n",
       "      <td>3</td>\n",
       "      <td>5</td>\n",
       "      <td>7</td>\n",
       "      <td>1</td>\n",
       "      <td>1</td>\n",
       "      <td>3</td>\n",
       "      <td>2</td>\n",
       "      <td>21</td>\n",
       "      <td>14.2</td>\n",
       "      <td>+11</td>\n",
       "    </tr>\n",
       "  </tbody>\n",
       "</table>\n",
       "<p>5 rows × 23 columns</p>\n",
       "</div>"
      ],
      "text/plain": [
       "         player        date team home  opp    min  FG FGA 3P 3PA  ... DRB TRB  \\\n",
       "0  /y/youngtr01  2020-12-23  ATL    @  CHI  25:57  10  12  5   6  ...   4   6   \n",
       "1  /y/youngtr01  2020-12-26  ATL    @  MEM  35:23  10  24  1   7  ...   1   3   \n",
       "2  /y/youngtr01  2020-12-28  ATL       DET  32:55   6  13  2   6  ...   3   3   \n",
       "3  /y/youngtr01  2020-12-30  ATL    @  BRK  31:56   8  18  0   4  ...   3   6   \n",
       "4  /y/youngtr01  2021-01-01  ATL    @  BRK  32:27   7  21  3   8  ...   3   5   \n",
       "\n",
       "  AST STL BLK TOV PF PTS  GmSc  +/-  \n",
       "0   7   0   0   4  1  37  34.9  +30  \n",
       "1   9   0   0   2  1  36  28.0  +12  \n",
       "2   6   0   0   3  2  29  23.6    0  \n",
       "3  11   0   0   5  0  30  25.5   +5  \n",
       "4   7   1   1   3  2  21  14.2  +11  \n",
       "\n",
       "[5 rows x 23 columns]"
      ]
     },
     "execution_count": 909,
     "metadata": {},
     "output_type": "execute_result"
    }
   ],
   "source": [
    "stat_names = ['player','date','team','home','opp','min','FG','FGA','3P','3PA','FT','FTA','ORB','DRB','TRB','AST',\n",
    "         'STL','BLK','TOV','PF','PTS','GmSc','+/-']\n",
    "df_stats_15 = pd.DataFrame(columns=stat_names)\n",
    "for i, player in enumerate(df_players_15['player']):\n",
    "    if i % 10 == 0:\n",
    "        print('{}% complete'.format(round(100*i/len(df_players_15))))\n",
    "    player_url = urlopen('https://www.basketball-reference.com/players/' + player + '/gamelog/2021')\n",
    "    bsObj = BeautifulSoup(player_url.read())\n",
    "    stats = []\n",
    "    for child in bsObj.find('tbody').children:\n",
    "        try:\n",
    "            stats.append(player)\n",
    "            for child1 in child.children:\n",
    "                stats.append(child1.get_text())\n",
    "        except:\n",
    "            pass   \n",
    "        # if len(stats) < 31, the player did not play that night so ignore those rows\n",
    "        if len(stats) == 31:\n",
    "            # get rid of unnecessary columns\n",
    "            del stats[1:3]\n",
    "            del stats[2]\n",
    "            del stats[5:7]\n",
    "            del stats[8]\n",
    "            del stats[10]\n",
    "            del stats[12]\n",
    "            df_stats_15 = df_stats_15.append(pd.DataFrame(np.array(stats).reshape(1,-1), columns=stat_names))\n",
    "        stats = []\n",
    "df_stats_15 = df_stats_15.reset_index(drop=True)\n",
    "df_stats_15.to_csv('df_stats_15.csv')\n",
    "df_stats_15.head()"
   ]
  },
  {
   "cell_type": "markdown",
   "metadata": {},
   "source": [
    "### Clean the player stats data set"
   ]
  },
  {
   "cell_type": "code",
   "execution_count": 910,
   "metadata": {},
   "outputs": [
    {
     "data": {
      "text/html": [
       "<div>\n",
       "<style scoped>\n",
       "    .dataframe tbody tr th:only-of-type {\n",
       "        vertical-align: middle;\n",
       "    }\n",
       "\n",
       "    .dataframe tbody tr th {\n",
       "        vertical-align: top;\n",
       "    }\n",
       "\n",
       "    .dataframe thead th {\n",
       "        text-align: right;\n",
       "    }\n",
       "</style>\n",
       "<table border=\"1\" class=\"dataframe\">\n",
       "  <thead>\n",
       "    <tr style=\"text-align: right;\">\n",
       "      <th></th>\n",
       "      <th>player</th>\n",
       "      <th>date</th>\n",
       "      <th>team</th>\n",
       "      <th>home</th>\n",
       "      <th>opp</th>\n",
       "      <th>min</th>\n",
       "      <th>FG</th>\n",
       "      <th>FGA</th>\n",
       "      <th>3P</th>\n",
       "      <th>3PA</th>\n",
       "      <th>...</th>\n",
       "      <th>DRB</th>\n",
       "      <th>TRB</th>\n",
       "      <th>AST</th>\n",
       "      <th>STL</th>\n",
       "      <th>BLK</th>\n",
       "      <th>TOV</th>\n",
       "      <th>PF</th>\n",
       "      <th>PTS</th>\n",
       "      <th>GmSc</th>\n",
       "      <th>+/-</th>\n",
       "    </tr>\n",
       "  </thead>\n",
       "  <tbody>\n",
       "    <tr>\n",
       "      <th>0</th>\n",
       "      <td>/y/youngtr01</td>\n",
       "      <td>2020-12-23</td>\n",
       "      <td>ATL</td>\n",
       "      <td>1</td>\n",
       "      <td>CHI</td>\n",
       "      <td>25.95</td>\n",
       "      <td>10</td>\n",
       "      <td>12</td>\n",
       "      <td>5</td>\n",
       "      <td>6</td>\n",
       "      <td>...</td>\n",
       "      <td>4</td>\n",
       "      <td>6</td>\n",
       "      <td>7</td>\n",
       "      <td>0</td>\n",
       "      <td>0</td>\n",
       "      <td>4</td>\n",
       "      <td>1</td>\n",
       "      <td>37</td>\n",
       "      <td>34.9</td>\n",
       "      <td>30</td>\n",
       "    </tr>\n",
       "    <tr>\n",
       "      <th>1</th>\n",
       "      <td>/y/youngtr01</td>\n",
       "      <td>2020-12-26</td>\n",
       "      <td>ATL</td>\n",
       "      <td>1</td>\n",
       "      <td>MEM</td>\n",
       "      <td>35.38</td>\n",
       "      <td>10</td>\n",
       "      <td>24</td>\n",
       "      <td>1</td>\n",
       "      <td>7</td>\n",
       "      <td>...</td>\n",
       "      <td>1</td>\n",
       "      <td>3</td>\n",
       "      <td>9</td>\n",
       "      <td>0</td>\n",
       "      <td>0</td>\n",
       "      <td>2</td>\n",
       "      <td>1</td>\n",
       "      <td>36</td>\n",
       "      <td>28.0</td>\n",
       "      <td>12</td>\n",
       "    </tr>\n",
       "    <tr>\n",
       "      <th>2</th>\n",
       "      <td>/y/youngtr01</td>\n",
       "      <td>2020-12-28</td>\n",
       "      <td>ATL</td>\n",
       "      <td>0</td>\n",
       "      <td>DET</td>\n",
       "      <td>32.92</td>\n",
       "      <td>6</td>\n",
       "      <td>13</td>\n",
       "      <td>2</td>\n",
       "      <td>6</td>\n",
       "      <td>...</td>\n",
       "      <td>3</td>\n",
       "      <td>3</td>\n",
       "      <td>6</td>\n",
       "      <td>0</td>\n",
       "      <td>0</td>\n",
       "      <td>3</td>\n",
       "      <td>2</td>\n",
       "      <td>29</td>\n",
       "      <td>23.6</td>\n",
       "      <td>0</td>\n",
       "    </tr>\n",
       "    <tr>\n",
       "      <th>3</th>\n",
       "      <td>/y/youngtr01</td>\n",
       "      <td>2020-12-30</td>\n",
       "      <td>ATL</td>\n",
       "      <td>1</td>\n",
       "      <td>BRK</td>\n",
       "      <td>31.93</td>\n",
       "      <td>8</td>\n",
       "      <td>18</td>\n",
       "      <td>0</td>\n",
       "      <td>4</td>\n",
       "      <td>...</td>\n",
       "      <td>3</td>\n",
       "      <td>6</td>\n",
       "      <td>11</td>\n",
       "      <td>0</td>\n",
       "      <td>0</td>\n",
       "      <td>5</td>\n",
       "      <td>0</td>\n",
       "      <td>30</td>\n",
       "      <td>25.5</td>\n",
       "      <td>5</td>\n",
       "    </tr>\n",
       "    <tr>\n",
       "      <th>4</th>\n",
       "      <td>/y/youngtr01</td>\n",
       "      <td>2021-01-01</td>\n",
       "      <td>ATL</td>\n",
       "      <td>1</td>\n",
       "      <td>BRK</td>\n",
       "      <td>32.45</td>\n",
       "      <td>7</td>\n",
       "      <td>21</td>\n",
       "      <td>3</td>\n",
       "      <td>8</td>\n",
       "      <td>...</td>\n",
       "      <td>3</td>\n",
       "      <td>5</td>\n",
       "      <td>7</td>\n",
       "      <td>1</td>\n",
       "      <td>1</td>\n",
       "      <td>3</td>\n",
       "      <td>2</td>\n",
       "      <td>21</td>\n",
       "      <td>14.2</td>\n",
       "      <td>11</td>\n",
       "    </tr>\n",
       "  </tbody>\n",
       "</table>\n",
       "<p>5 rows × 23 columns</p>\n",
       "</div>"
      ],
      "text/plain": [
       "         player       date team  home  opp    min  FG  FGA  3P  3PA  ...  DRB  \\\n",
       "0  /y/youngtr01 2020-12-23  ATL     1  CHI  25.95  10   12   5    6  ...    4   \n",
       "1  /y/youngtr01 2020-12-26  ATL     1  MEM  35.38  10   24   1    7  ...    1   \n",
       "2  /y/youngtr01 2020-12-28  ATL     0  DET  32.92   6   13   2    6  ...    3   \n",
       "3  /y/youngtr01 2020-12-30  ATL     1  BRK  31.93   8   18   0    4  ...    3   \n",
       "4  /y/youngtr01 2021-01-01  ATL     1  BRK  32.45   7   21   3    8  ...    3   \n",
       "\n",
       "   TRB  AST  STL  BLK  TOV  PF  PTS  GmSc  +/-  \n",
       "0    6    7    0    0    4   1   37  34.9   30  \n",
       "1    3    9    0    0    2   1   36  28.0   12  \n",
       "2    3    6    0    0    3   2   29  23.6    0  \n",
       "3    6   11    0    0    5   0   30  25.5    5  \n",
       "4    5    7    1    1    3   2   21  14.2   11  \n",
       "\n",
       "[5 rows x 23 columns]"
      ]
     },
     "execution_count": 910,
     "metadata": {},
     "output_type": "execute_result"
    }
   ],
   "source": [
    "df_stats_15['home'] = np.where(df_stats_15['home']=='@', 1, 0)\n",
    "\n",
    "# change min column to numeric\n",
    "def min_to_numeric(value):\n",
    "    minute = int(re.split(':', value)[0])\n",
    "    second = int(re.split(':', value)[1])\n",
    "    return minute + round(second / 60, 2)\n",
    "df_stats_15['min'] = df_stats_15['min'].apply(lambda x: min_to_numeric(x))\n",
    "\n",
    "df_stats_15['date'] = pd.to_datetime(df_stats_15['date'])\n",
    "\n",
    "# convert relevant columns to numeric type\n",
    "numeric_stats = ['FG','FGA','3P','3PA','FT','FTA','ORB','DRB','TRB','AST','STL','BLK','TOV','PF','PTS','GmSc','+/-']\n",
    "for stat in numeric_stats:\n",
    "    df_stats_15[stat] = pd.to_numeric(df_stats_15[stat])\n",
    "    \n",
    "df_stats_15.head()"
   ]
  },
  {
   "cell_type": "markdown",
   "metadata": {},
   "source": [
    "### Create df for players and stat of interest (points) with:\n",
    "- team/opponent/player stats averaged over the last week\n",
    "- player stats for entire season up to this point"
   ]
  },
  {
   "cell_type": "code",
   "execution_count": 911,
   "metadata": {},
   "outputs": [
    {
     "name": "stdout",
     "output_type": "stream",
     "text": [
      "0% complete\n",
      "14% complete\n",
      "27% complete\n",
      "41% complete\n",
      "54% complete\n",
      "68% complete\n",
      "81% complete\n",
      "95% complete\n"
     ]
    }
   ],
   "source": [
    "stat = 'PTS'\n",
    "df_final_15 = pd.DataFrame()\n",
    "for i, player in enumerate(df_stats_15['player'].unique()):\n",
    "    if i % 10 == 0:\n",
    "        print('{}% complete'.format(round(100*i/len(df_stats_15['player'].unique()))))\n",
    "    df = df_stats_15[df_stats_15['player'] == player]\n",
    "    df = df[['date', 'team', 'home', 'opp', stat]]\n",
    "\n",
    "    # start in January so we have at least a week of games played already\n",
    "    df = df[df['date'] >= pd.to_datetime('2021-01-01')]\n",
    "    \n",
    "    # add player stats averaged over the last week\n",
    "    def player_week(row):\n",
    "        team = row['team']\n",
    "        date = row['date']\n",
    "        df_player = df_stats_15[df_stats_15['player'] == player]\n",
    "        df_player_week = df_player[(df_player['date'] < date) & (df_player['date'] >= date - pd.to_timedelta(1, unit='W'))]\n",
    "        if len(df_player_week) == 0:\n",
    "            col = df_player.drop(columns=['player','date','team','opp']).columns\n",
    "            AVGs = pd.Series(np.zeros(len(df_stats.columns) - 4), index=col)\n",
    "        else:\n",
    "            AVGs = df_player_week.drop(columns=['player','date','team','opp']).mean()\n",
    "        return AVGs\n",
    "    \n",
    "    df_player_week = df.apply(lambda x: player_week(x), axis=1) # merge with df\n",
    "    \n",
    "    # add player stats averaged over season up to this point\n",
    "    def player_season(row):\n",
    "        date = row['date']\n",
    "        df_player = df_stats_15[df_stats_15['player'] == player]\n",
    "        df_player_season = df_player[df_player['date'] < date]\n",
    "        if len(df_player_season) == 0:\n",
    "            col = df_player.drop(columns=['player','date','team','opp']).columns\n",
    "            AVGs = pd.Series(np.zeros(len(df_stats.columns) - 4), index=col)\n",
    "        else:\n",
    "            AVGs = df_player_season.drop(columns=['player','date','team','opp']).mean()  \n",
    "        return AVGs        \n",
    "    \n",
    "    df_player_season = df.apply(lambda x: player_season(x), axis=1) # merge with df\n",
    "    \n",
    "    # add team stats averaged over the last week\n",
    "    def team_week(row):\n",
    "        team = row['team']\n",
    "        date = row['date']\n",
    "        df_team = teams_gamelog[team]\n",
    "        df_team_week = df_team[(df_team['date'] < date) & (df_team['date'] >= date - pd.to_timedelta(1, unit='W'))]\n",
    "        if len(df_team_week) == 0:\n",
    "            col = df_team.drop(columns=['date','Opp'], axis=1).columns\n",
    "            AVGs = pd.Series(np.zeros(len(teams_gamelog[team].columns) - 2), index=col) \n",
    "        else:\n",
    "            AVGs = df_team_week.drop(columns=['date','Opp'], axis=1).mean()\n",
    "        return AVGs\n",
    "    \n",
    "    df_team_week = df.apply(lambda x: team_week(x), axis=1) # merge with df\n",
    "\n",
    "    # add opponent stats averaged over the last week\n",
    "    def opp_week(row):\n",
    "        opp = row['opp']\n",
    "        date = row['date']\n",
    "        df_opp = teams_gamelog[opp]\n",
    "        df_opp_week = df_opp[(df_opp['date'] < date) & (df_opp['date'] >= date - pd.to_timedelta(1, unit='W'))]\n",
    "        if len(df_opp_week) == 0:\n",
    "            col = df_opp.drop(columns=['date','Opp'], axis=1).columns\n",
    "            AVGs = pd.Series(np.zeros(len(teams_gamelog[opp].columns) - 2), index=col)\n",
    "        else:\n",
    "            AVGs = df_opp_week.drop(columns=['date','Opp'], axis=1).mean()\n",
    "        return AVGs\n",
    "\n",
    "    df_opp_week = df.apply(lambda x: opp_week(x), axis=1) # merge with df\n",
    "\n",
    "    # merge all three df's\n",
    "    df = pd.merge(df, df_player_week, how='inner', left_index=True, right_index=True, suffixes=('','_playerAVG'))\n",
    "    df = pd.merge(df, df_player_season, how='inner', left_index=True, right_index=True, suffixes=('','_seasonAVG'))\n",
    "    df = pd.merge(df, df_team_week, how='inner', left_index=True, right_index=True, suffixes=('','_teamAVG'))\n",
    "    df = pd.merge(df, df_opp_week, how='inner', left_index=True, right_index=True, suffixes=('','_oppAVG'))\n",
    "\n",
    "    # drop team and opp\n",
    "    df.drop(columns=['team','opp'], axis=1, inplace=True)\n",
    "    \n",
    "    df_final_15 = pd.concat([df_final_15, df])\n",
    "\n",
    "for col in df_final_15.columns:\n",
    "    if df_final_15[col].isnull().sum() == len(df_final_15):\n",
    "        df_final_15.drop(columns=[col], axis=1, inplace=True)\n",
    "\n",
    "df_final_15.drop(columns=['date'], axis=1, inplace=True)"
   ]
  },
  {
   "cell_type": "markdown",
   "metadata": {},
   "source": [
    "### Get rid of rows with lots of 0s\n",
    "- player was likely coming off injury, which might skew predictions unnecessarily\n",
    "- could also represent game right after all-star break where game had not been played in over a week"
   ]
  },
  {
   "cell_type": "code",
   "execution_count": 912,
   "metadata": {},
   "outputs": [],
   "source": [
    "def number_zeroes(row):\n",
    "    values = row.values\n",
    "    flag = 0\n",
    "    for value in values:\n",
    "        if value == 0:\n",
    "            flag += 1\n",
    "    if flag > 20:\n",
    "        return 1\n",
    "    else:\n",
    "        return 0\n",
    "\n",
    "mask = df_final_15.apply(lambda x: number_zeroes(x), axis=1)\n",
    "mask = mask.values\n",
    "mask = mask == 0\n",
    "\n",
    "df_final_15 = df_final_15.iloc[mask]"
   ]
  },
  {
   "cell_type": "markdown",
   "metadata": {},
   "source": [
    "### get rid of rows where points scored = 0 \n",
    "- player likely was injured and did not play"
   ]
  },
  {
   "cell_type": "code",
   "execution_count": 913,
   "metadata": {},
   "outputs": [],
   "source": [
    "df_final_15 = df_final_15[df_final_15['PTS'] > 0]"
   ]
  },
  {
   "cell_type": "markdown",
   "metadata": {},
   "source": [
    "# Model Development"
   ]
  },
  {
   "cell_type": "code",
   "execution_count": 914,
   "metadata": {},
   "outputs": [],
   "source": [
    "y_15 = df_final_15['PTS']\n",
    "X_15 = df_final_15.drop(columns=['PTS'], axis=1)\n",
    "X_15_train, X_15_test, y_15_train, y_15_test = train_test_split(X_15, y_15, random_state=0, test_size=0.2)\n",
    "\n",
    "scale_15 = StandardScaler()\n",
    "X_15_train = scale_15.fit_transform(X_15_train)\n",
    "X_15_test = scale_15.transform(X_15_test)"
   ]
  },
  {
   "cell_type": "markdown",
   "metadata": {},
   "source": [
    "### Random Forests"
   ]
  },
  {
   "cell_type": "code",
   "execution_count": 915,
   "metadata": {},
   "outputs": [],
   "source": [
    "tree_15 = RandomForestRegressor()\n",
    "\n",
    "params = {'n_estimators': [100, 200, 300],\n",
    "          'max_depth': [5, 7, 9, 11],\n",
    "          'max_features': [10, 20, 30, 50]\n",
    "         }\n",
    "\n",
    "grid_tree_15 = GridSearchCV(tree_15, param_grid=params, scoring='r2', cv=3)\n",
    "#grid_tree_15.fit(X_15_train, y_15_train)\n",
    "\n",
    "#print('Best RF params: {}'.format(grid_tree_15.best_estimator_))"
   ]
  },
  {
   "cell_type": "code",
   "execution_count": 916,
   "metadata": {},
   "outputs": [
    {
     "name": "stdout",
     "output_type": "stream",
     "text": [
      "RF score: 0.32793903311310446\n"
     ]
    },
    {
     "data": {
      "text/plain": [
       "Text(0.5, 0, 'Predicted')"
      ]
     },
     "execution_count": 916,
     "metadata": {},
     "output_type": "execute_result"
    },
    {
     "data": {
      "image/png": "[encoded data removed]",
      "text/plain": [
       "<Figure size 432x288 with 1 Axes>"
      ]
     },
     "metadata": {
      "needs_background": "light"
     },
     "output_type": "display_data"
    }
   ],
   "source": [
    "tree_15 = RandomForestRegressor(max_depth=7, max_features=10, n_estimators=200)\n",
    "tree_15.fit(X_15_train, y_15_train)\n",
    "y_15_pred_tree = tree_15.predict(X_15_test)\n",
    "y_15_score_tree = tree_15.score(X_15_test,y_15_test)\n",
    "print('RF score: {}'.format(y_15_score_tree))\n",
    "_ = plt.scatter(y_15_pred_tree, y_15_test)\n",
    "_ = plt.plot(np.arange(30), np.arange(30), 'r')\n",
    "plt.ylabel('Actual')\n",
    "plt.xlabel('Predicted')"
   ]
  },
  {
   "cell_type": "markdown",
   "metadata": {},
   "source": [
    "### Ridge/Lasso Regression"
   ]
  },
  {
   "cell_type": "code",
   "execution_count": 917,
   "metadata": {},
   "outputs": [],
   "source": [
    "ridge_15 = Ridge()\n",
    "lasso_15 = Lasso(max_iter=100000)\n",
    "params = {'alpha': [0.0001, 0.001, 0.01, 0.1, 1, 10, 100, 1000]}\n",
    "\n",
    "\n",
    "grid_lasso_15 = GridSearchCV(lasso_15, param_grid=params, scoring='r2', cv=5)\n",
    "grid_ridge_15 = GridSearchCV(ridge_15, param_grid=params, scoring='r2', cv=5)\n",
    "\n",
    "#grid_lasso_15.fit(X_15_train, y_15_train)\n",
    "#grid_ridge_15.fit(X_15_train, y_15_train)\n",
    "\n",
    "#print('Best ridge params: {}'.format(grid_ridge_15.best_estimator_))\n",
    "#print('Best lasso params: {}'.format(grid_lasso_15.best_estimator_))"
   ]
  },
  {
   "cell_type": "code",
   "execution_count": 918,
   "metadata": {},
   "outputs": [
    {
     "name": "stdout",
     "output_type": "stream",
     "text": [
      "lasso score: 0.32533040615444586\n",
      "ridge score: 0.3238066249995536\n"
     ]
    }
   ],
   "source": [
    "lasso_15 = Lasso(alpha=0.1, max_iter=100000)\n",
    "lasso_15.fit(X_15_train, y_15_train)\n",
    "y_15_pred_lasso = lasso_15.predict(X_15_test)\n",
    "y_15_score_lasso = lasso_15.score(X_15_test,y_15_test)\n",
    "print('lasso score: {}'.format(y_15_score_lasso))\n",
    "\n",
    "ridge_15 = Ridge(alpha=1000)\n",
    "ridge_15.fit(X_15_train, y_15_train)\n",
    "y_15_pred_ridge = ridge_15.predict(X_15_test)\n",
    "y_15_score_ridge = ridge_15.score(X_15_test,y_15_test)\n",
    "print('ridge score: {}'.format(y_15_score_ridge))"
   ]
  },
  {
   "cell_type": "markdown",
   "metadata": {},
   "source": [
    "### Voting Regressor"
   ]
  },
  {
   "cell_type": "code",
   "execution_count": 919,
   "metadata": {},
   "outputs": [
    {
     "name": "stdout",
     "output_type": "stream",
     "text": [
      "Voting Regressor score: 0.3298529553458104\n"
     ]
    },
    {
     "data": {
      "text/plain": [
       "Text(0, 0.5, 'Actual')"
      ]
     },
     "execution_count": 919,
     "metadata": {},
     "output_type": "execute_result"
    },
    {
     "data": {
      "image/png": "[encoded data removed]",
      "text/plain": [
       "<Figure size 432x288 with 1 Axes>"
      ]
     },
     "metadata": {
      "needs_background": "light"
     },
     "output_type": "display_data"
    }
   ],
   "source": [
    "vote_15 = VotingRegressor([('Ridge',ridge_15), ('Lasso',lasso_15), ('RF',tree_15)], n_jobs=-1)\n",
    "vote_15.fit(X_15_train, y_15_train)\n",
    "print('Voting Regressor score: {}'.format(vote_15.score(X_15_test,y_15_test)))\n",
    "y_15_pred_vote = vote_15.predict(X_15_test)\n",
    "_ = plt.scatter(y_15_pred_vote, y_15_test)\n",
    "_ = plt.plot(np.arange(30), np.arange(30), 'r')\n",
    "plt.xlabel('Predicted')\n",
    "plt.ylabel('Actual')"
   ]
  },
  {
   "cell_type": "markdown",
   "metadata": {},
   "source": [
    "Unlike the original model, the voting regressor performs better than individual models so I will use it as the final model"
   ]
  },
  {
   "cell_type": "markdown",
   "metadata": {},
   "source": [
    "### Determine mean, standard deviation of normal distribution of the difference between predicted and actual points scored on the test set"
   ]
  },
  {
   "cell_type": "code",
   "execution_count": 920,
   "metadata": {},
   "outputs": [
    {
     "name": "stdout",
     "output_type": "stream",
     "text": [
      "Median: -0.4784898592448137\n",
      "Mean: -0.18633318896740372\n",
      "Standard Deviation: 7.431674080342586\n"
     ]
    },
    {
     "data": {
      "image/png": "[encoded data removed]",
      "text/plain": [
       "<Figure size 432x288 with 1 Axes>"
      ]
     },
     "metadata": {
      "needs_background": "light"
     },
     "output_type": "display_data"
    }
   ],
   "source": [
    "y_15_diff = y_15_test - y_15_pred_vote\n",
    "_ = plt.hist(y_15_diff)\n",
    "plt.xlabel('Actual - Predicted (points)')\n",
    "plt.ylabel('Number')\n",
    "plt.title('Distribution of Differences Between Actual and Predicted')\n",
    "\n",
    "std_15 = st.stats.tstd(y_15_diff)\n",
    "mean_15 = np.mean(y_15_diff)\n",
    "median_15 = np.median(y_15_diff)\n",
    "print('Median: {}'.format(median_15))\n",
    "print('Mean: {}'.format(mean_15))\n",
    "print('Standard Deviation: {}'.format(std_15))"
   ]
  },
  {
   "cell_type": "markdown",
   "metadata": {},
   "source": [
    "# Create data to predict during NBA playoffs\n",
    "- this function will take information about a player for a particular game and output a prediction using the second model to compare to a over/under generated by a betting site"
   ]
  },
  {
   "cell_type": "code",
   "execution_count": 921,
   "metadata": {},
   "outputs": [],
   "source": [
    "def predict_player_points_15(player, team, opp, home, date):\n",
    "\n",
    "    X_predict = pd.DataFrame(np.array([date, team, home, opp]).reshape(1,-1), columns = ['date', 'team', 'home', 'opp'])\n",
    "    \n",
    "    # add player stats averaged over the last week\n",
    "    df_player = df_stats_15[df_stats_15['player'] == player]\n",
    "    df_player_week = df_player[(df_player['date'] < date) & (df_player['date'] >= date - pd.to_timedelta(1, unit='W'))]\n",
    "    df_player_week = df_player_week.drop(columns=['player','date','team','opp']).mean()\n",
    "    df_player_week = pd.DataFrame(np.array(df_player_week).reshape(1,-1), columns = df_player_week.index)\n",
    "\n",
    "    # add player stats averaged over season up to this point\n",
    "    df_player_season = df_player[df_player['date'] < date]\n",
    "    df_player_season = df_player_season.drop(columns=['player','date','team','opp']).mean() \n",
    "    df_player_season = pd.DataFrame(np.array(df_player_season).reshape(1,-1), columns = df_player_season.index)\n",
    "\n",
    "    # add team stats averaged over the last week\n",
    "    df_team = teams_gamelog[team]\n",
    "    df_team_week = df_team[(df_team['date'] < date) & (df_team['date'] >= date - pd.to_timedelta(1, unit='W'))]\n",
    "    df_team_week = df_team_week.drop(columns=['date','Opp'], axis=1).mean()\n",
    "    df_team_week = pd.DataFrame(np.array(df_team_week).reshape(1,-1), columns = df_team_week.index)\n",
    "\n",
    "    # add opponent stats averaged over the last week\n",
    "    df_opp = teams_gamelog[opp]\n",
    "    df_opp_week = df_opp[(df_opp['date'] < date) & (df_opp['date'] >= date - pd.to_timedelta(1, unit='W'))]\n",
    "    df_opp_week = df_opp_week.drop(columns=['date','Opp'], axis=1).mean()\n",
    "    df_opp_week = pd.DataFrame(np.array(df_opp_week).reshape(1,-1), columns = df_opp_week.index)\n",
    "\n",
    "    # merge all three df's\n",
    "    X_predict = pd.merge(X_predict, df_player_week, how='inner', left_index=True, right_index=True, suffixes=('','_playerAVG'))\n",
    "    X_predict = pd.merge(X_predict, df_player_season, how='inner', left_index=True, right_index=True, suffixes=('','_seasonAVG'))\n",
    "    X_predict = pd.merge(X_predict, df_team_week, how='inner', left_index=True, right_index=True, suffixes=('','_teamAVG'))\n",
    "    X_predict = pd.merge(X_predict, df_opp_week, how='inner', left_index=True, right_index=True, suffixes=('','_oppAVG'))\n",
    "\n",
    "    # drop team and opp\n",
    "    X_predict.drop(columns=['date','team','opp'], axis=1, inplace=True)\n",
    "\n",
    "    for col in X_predict.columns:\n",
    "        if X_predict[col].isnull().sum() == len(X_predict):\n",
    "            X_predict.drop(columns=[col], axis=1, inplace=True)\n",
    "\n",
    "    X_predict = scale_15.transform(X_predict)\n",
    "    y_pred = np.round(vote_15.predict(X_predict), 1)\n",
    "    return y_pred[0]\n"
   ]
  },
  {
   "cell_type": "markdown",
   "metadata": {},
   "source": [
    "## Predict score of a player in today's game using both models"
   ]
  },
  {
   "cell_type": "code",
   "execution_count": 922,
   "metadata": {},
   "outputs": [
    {
     "name": "stdout",
     "output_type": "stream",
     "text": [
      "Original model prediction: 28.2\n",
      "Model_15 prediction: 27.0\n"
     ]
    }
   ],
   "source": [
    "player = '/t/tatumja01'\n",
    "team = 'BOS'\n",
    "opp = 'WAS'\n",
    "home = 1\n",
    "date = pd.to_datetime('today').normalize()\n",
    "print('Original model prediction: {}'.format(predict_player_points(player, team, opp, home, date)))\n",
    "print('Model_15 prediction: {}'.format(predict_player_points_15(player, team, opp, home, date)))"
   ]
  },
  {
   "cell_type": "markdown",
   "metadata": {},
   "source": [
    "### Calculate area under cumulative distribution function to determine probability of success / how much to bet"
   ]
  },
  {
   "cell_type": "code",
   "execution_count": 923,
   "metadata": {},
   "outputs": [
    {
     "name": "stdout",
     "output_type": "stream",
     "text": [
      "Original Model\n",
      "Probability of winning the bet: 0.392\n",
      "Probability of winning part 1: 0.662\n",
      "Probability of winning part 2: 0.593\n",
      "Bet $18.94 on this prop\n",
      "\n",
      "Model_15\n",
      "Probability of winning the bet: 0.517\n",
      "Probability of winning part 1: 0.745\n",
      "Probability of winning part 2: 0.695\n",
      "Bet $57.3 on this prop\n"
     ]
    }
   ],
   "source": [
    "# diff = O/U - Predicted\n",
    "diff1 = 2.5\n",
    "diff2 = 1.4\n",
    "\n",
    "diff1_15 = 4.7\n",
    "diff2_15 = 3.6\n",
    "\n",
    "std = st.stats.tstd(y_diff)\n",
    "mean = np.mean(y_diff)\n",
    "std_15 = st.stats.tstd(y_15_diff)\n",
    "mean_15 = np.mean(y_15_diff)\n",
    "\n",
    "if diff1 > 0:\n",
    "    p1 = st.norm(mean,std).cdf(diff1)\n",
    "else:\n",
    "    p1 = 1 - st.norm(mean,std).cdf(diff1)\n",
    "    \n",
    "if diff2 > 0:\n",
    "    p2 = st.norm(mean,std).cdf(diff2)\n",
    "else:\n",
    "    p2 = 1 - st.norm(mean,std).cdf(diff2)\n",
    "    \n",
    "p = p1 * p2\n",
    "print('Original Model')\n",
    "print('Probability of winning the bet: {}'.format(round(p,3)))\n",
    "print('Probability of winning part 1: {}'.format(round(p1,3)))\n",
    "print('Probability of winning part 2: {}'.format(round(p2,3)))\n",
    "if p > 0.33:\n",
    "    bet = round(800*p**4, 2)\n",
    "else:\n",
    "    bet = 0\n",
    "print('Bet ${} on this prop'.format(bet))\n",
    "\n",
    "\n",
    "if diff1_15 > 0:\n",
    "    p1 = st.norm(mean_15,std_15).cdf(diff1_15)\n",
    "else:\n",
    "    p1 = 1 - st.norm(mean_15,std_15).cdf(diff1_15)\n",
    "    \n",
    "if diff2_15 > 0:\n",
    "    p2 = st.norm(mean_15,std_15).cdf(diff2_15)\n",
    "else:\n",
    "    p2 = 1 - st.norm(mean_15,std_15).cdf(diff2_15)\n",
    "    \n",
    "p = p1 * p2\n",
    "print('')\n",
    "print('Model_15')\n",
    "print('Probability of winning the bet: {}'.format(round(p,3)))\n",
    "print('Probability of winning part 1: {}'.format(round(p1,3)))\n",
    "print('Probability of winning part 2: {}'.format(round(p2,3)))\n",
    "if p > 0.33:\n",
    "    bet = round(800*p**4, 2)\n",
    "else:\n",
    "    bet = 0\n",
    "print('Bet ${} on this prop'.format(bet))"
   ]
  },
  {
   "cell_type": "markdown",
   "metadata": {},
   "source": [
    "### Look at model predictions from data set on particular player"
   ]
  },
  {
   "cell_type": "code",
   "execution_count": 924,
   "metadata": {},
   "outputs": [
    {
     "data": {
      "text/plain": [
       "Text(0.5, 1.0, 'Predicted vs. Actual Points Scored by /i/irvinky01')"
      ]
     },
     "execution_count": 924,
     "metadata": {},
     "output_type": "execute_result"
    },
    {
     "data": {
      "image/png": "[encoded data removed]",
      "text/plain": [
       "<Figure size 432x288 with 1 Axes>"
      ]
     },
     "metadata": {
      "needs_background": "light"
     },
     "output_type": "display_data"
    }
   ],
   "source": [
    "plyr = '/i/irvinky01'\n",
    "plyr_stats = df_stats_15[df_stats_15['player'] == plyr]\n",
    "plyr_idx = plyr_stats.index\n",
    "\n",
    "plyr_X_idx = []\n",
    "for idx in plyr_idx:\n",
    "    if idx in X_15.index:\n",
    "        plyr_X_idx.append(idx)\n",
    "plyr_X = X_15.loc[plyr_X_idx]\n",
    "plyr_y = y_15.loc[plyr_X_idx]\n",
    "\n",
    "plyr_X = scale_15.transform(plyr_X)\n",
    "plyr_y_pred = tree_15.predict(plyr_X)\n",
    "\n",
    "_ = plt.scatter(plyr_y_pred, plyr_y)\n",
    "_ = plt.plot(np.arange(50), np.arange(50), 'r')\n",
    "plt.xlabel('Predicted')\n",
    "plt.ylabel('Actual')\n",
    "plt.title('Predicted vs. Actual Points Scored by {}'.format(plyr))"
   ]
  },
  {
   "cell_type": "code",
   "execution_count": 925,
   "metadata": {},
   "outputs": [
    {
     "data": {
      "text/html": [
       "<div>\n",
       "<style scoped>\n",
       "    .dataframe tbody tr th:only-of-type {\n",
       "        vertical-align: middle;\n",
       "    }\n",
       "\n",
       "    .dataframe tbody tr th {\n",
       "        vertical-align: top;\n",
       "    }\n",
       "\n",
       "    .dataframe thead th {\n",
       "        text-align: right;\n",
       "    }\n",
       "</style>\n",
       "<table border=\"1\" class=\"dataframe\">\n",
       "  <thead>\n",
       "    <tr style=\"text-align: right;\">\n",
       "      <th></th>\n",
       "      <th>team</th>\n",
       "      <th>player</th>\n",
       "      <th>name</th>\n",
       "    </tr>\n",
       "  </thead>\n",
       "  <tbody>\n",
       "    <tr>\n",
       "      <th>0</th>\n",
       "      <td>ATL</td>\n",
       "      <td>/y/youngtr01</td>\n",
       "      <td>Trae Young</td>\n",
       "    </tr>\n",
       "    <tr>\n",
       "      <th>1</th>\n",
       "      <td>ATL</td>\n",
       "      <td>/g/gallida01</td>\n",
       "      <td>Danilo Gallinari</td>\n",
       "    </tr>\n",
       "    <tr>\n",
       "      <th>2</th>\n",
       "      <td>ATL</td>\n",
       "      <td>/b/bogdabo01</td>\n",
       "      <td>Bogdan Bogdanović</td>\n",
       "    </tr>\n",
       "    <tr>\n",
       "      <th>3</th>\n",
       "      <td>ATL</td>\n",
       "      <td>/w/willilo02</td>\n",
       "      <td>Lou Williams</td>\n",
       "    </tr>\n",
       "    <tr>\n",
       "      <th>4</th>\n",
       "      <td>BOS</td>\n",
       "      <td>/t/tatumja01</td>\n",
       "      <td>Jayson Tatum</td>\n",
       "    </tr>\n",
       "  </tbody>\n",
       "</table>\n",
       "</div>"
      ],
      "text/plain": [
       "  team        player               name\n",
       "0  ATL  /y/youngtr01         Trae Young\n",
       "1  ATL  /g/gallida01   Danilo Gallinari\n",
       "2  ATL  /b/bogdabo01  Bogdan Bogdanović\n",
       "3  ATL  /w/willilo02       Lou Williams\n",
       "4  BOS  /t/tatumja01       Jayson Tatum"
      ]
     },
     "execution_count": 925,
     "metadata": {},
     "output_type": "execute_result"
    }
   ],
   "source": [
    "df_players_15.head()"
   ]
  },
  {
   "cell_type": "markdown",
   "metadata": {},
   "source": [
    "# Main\n",
    "### enter game info and write all data to excel file"
   ]
  },
  {
   "cell_type": "code",
   "execution_count": 963,
   "metadata": {},
   "outputs": [],
   "source": [
    "# enter game info\n",
    "name1 = 'DeMar DeRozan'  # home player\n",
    "OU1 = 24.5\n",
    "name2 = 'Dillon Brooks' # road player\n",
    "OU2 = 20.5\n",
    "\n",
    "playoff_round = 0\n",
    "game = 1\n",
    "bet_id = 2\n",
    "\n",
    "date = pd.to_datetime('today').normalize()\n",
    "\n",
    "########\n",
    "player1 = df_players_15[df_players_15['name'] == name1]['player'].values[0]\n",
    "player2 = df_players_15[df_players_15['name'] == name2]['player'].values[0]\n",
    "\n",
    "team1 = df_players_15[df_players_15['name'] == name1]['team'].values[0]\n",
    "team2 = df_players_15[df_players_15['name'] == name2]['team'].values[0]\n",
    "\n",
    "pred1 = predict_player_points(player1, team1, team2, 1, date)\n",
    "pred1_15 = predict_player_points_15(player1, team1, team2, 1, date)\n",
    "pred2 = predict_player_points(player2, team2, team1, 0, date)\n",
    "pred2_15 = predict_player_points_15(player2, team2, team1, 0, date)\n",
    "\n",
    "diff1 = OU1 - pred1\n",
    "diff1_15 = OU1 - pred1_15\n",
    "diff2 = OU2 - pred2\n",
    "diffd_15 = OU2 - pred2_15\n",
    "\n",
    "std = st.stats.tstd(y_diff)\n",
    "mean = np.mean(y_diff)\n",
    "std_15 = st.stats.tstd(y_15_diff)\n",
    "mean_15 = np.mean(y_15_diff)\n",
    "\n",
    "####### determine probability of success for bets on first model\n",
    "if diff1 > 0:\n",
    "    p1 = st.norm(mean,std).cdf(diff1)\n",
    "else:\n",
    "    p1 = 1 - st.norm(mean,std).cdf(diff1)\n",
    "    \n",
    "if diff2 > 0:\n",
    "    p2 = st.norm(mean,std).cdf(diff2)\n",
    "else:\n",
    "    p2 = 1 - st.norm(mean,std).cdf(diff2)\n",
    "    \n",
    "p = p1 * p2\n",
    "if p > 0.33:\n",
    "    bet = round(800*p**4, 2)\n",
    "else:\n",
    "    bet = 0\n",
    "\n",
    "####### determine probability of success for bets on second model\n",
    "if diff1_15 > 0:\n",
    "    p1_15 = st.norm(mean_15,std_15).cdf(diff1_15)\n",
    "else:\n",
    "    p1_15 = 1 - st.norm(mean_15,std_15).cdf(diff1_15)\n",
    "    \n",
    "if diff2_15 > 0:\n",
    "    p2_15 = st.norm(mean_15,std_15).cdf(diff2_15)\n",
    "else:\n",
    "    p2_15 = 1 - st.norm(mean_15,std_15).cdf(diff2_15)\n",
    "    \n",
    "p_15 = p1_15 * p2_15\n",
    "\n",
    "if p_15 > 0.33:\n",
    "    bet_15 = round(800*p_15**4, 2)\n",
    "else:\n",
    "    bet_15 = 0\n",
    "\n",
    "####### determine whether to bet over or under\n",
    "if OU1-pred1 > 0:\n",
    "    OU1_bet = 0\n",
    "else:\n",
    "    OU1_bet = 1\n",
    "\n",
    "if OU1-pred1_15 > 0:\n",
    "    OU1_bet_15 = 0\n",
    "else:\n",
    "    OU1_bet_15 = 1\n",
    "\n",
    "if OU2-pred2 > 0:\n",
    "    OU2_bet = 0\n",
    "else:\n",
    "    OU2_bet = 1\n",
    "\n",
    "if OU2-pred2_15 > 0:\n",
    "    OU2_bet_15 = 0\n",
    "else:\n",
    "    OU2_bet_15 = 1\n",
    "\n",
    "# format everything into a row of the excel file\n",
    "New_row_1 = np.array([name1, player1, team1, team2, 1, playoff_round, game, pred1, pred1_15, OU1, \n",
    "                      np.round(OU1-pred1, 3), np.round(OU1-pred1_15, 3), np.round(p1, 3), np.round(p1_15, 3), \n",
    "                      bet, bet_15, bet_id, OU1_bet, OU1_bet_15, '?', '?', '?', '?', '?', '?', '?', '?'])\n",
    "New_row_2 = np.array([name2, player2, team2, team1, 0, playoff_round, game, pred2, pred2_15, OU2, \n",
    "                      np.round(OU2-pred2, 3), np.round(OU2-pred2_15, 3), np.round(p2, 3), np.round(p2_15, 3), \n",
    "                      bet, bet_15, bet_id, OU2_bet, OU2_bet_15, '?', '?', '?', '?', '?', '?', '?', '?'])\n",
    "\n",
    "New_rows = np.concatenate((New_row_1.reshape(1,-1), New_row_2.reshape(1,-1)), axis=0)\n",
    "\n",
    "columns = ['Player', 'Player Code', 'Team', 'Opp', 'Home', 'Round', 'Game', 'Prediction',\n",
    "           'Prediction_15', 'O/U', 'Line Diff', 'Line Diff_15', 'Prob', 'Prob_15',\n",
    "           'Wager', 'Wager_15', 'Bet ID', 'O/U bet',  'O/U bet_15','Actual', 'Diff', 'Diff_15',\n",
    "           'Correct', 'Win', 'Win_15', 'Money', 'Money_15'\n",
    "          ]\n",
    "df_rows = pd.DataFrame(New_rows, columns = columns)\n",
    "\n",
    "######## write the two rows into the excel file\n",
    "writer = pd.ExcelWriter('Playoff_prop_bets2.xlsx', engine='openpyxl')\n",
    "# try to open an existing workbook\n",
    "writer.book = load_workbook('Playoff_prop_bets2.xlsx')\n",
    "# copy existing sheets\n",
    "writer.sheets = dict((ws.title, ws) for ws in writer.book.worksheets)\n",
    "# read existing file\n",
    "reader = pd.read_excel(r'Playoff_prop_bets2.xlsx')\n",
    "# write out the new sheet\n",
    "df_rows.to_excel(writer,index=False,header=False,startrow=len(reader)+1)\n",
    "writer.close()"
   ]
  },
  {
   "cell_type": "code",
   "execution_count": null,
   "metadata": {},
   "outputs": [],
   "source": []
  }
 ],
 "metadata": {
  "kernelspec": {
   "display_name": "Python 3",
   "language": "python",
   "name": "python3"
  },
  "language_info": {
   "codemirror_mode": {
    "name": "ipython",
    "version": 3
   },
   "file_extension": ".py",
   "mimetype": "text/x-python",
   "name": "python",
   "nbconvert_exporter": "python",
   "pygments_lexer": "ipython3",
   "version": "3.8.5"
  }
 },
 "nbformat": 4,
 "nbformat_minor": 4
}
